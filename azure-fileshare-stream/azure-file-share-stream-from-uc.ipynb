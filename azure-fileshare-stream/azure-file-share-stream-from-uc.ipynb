{
 "cells": [
  {
   "cell_type": "markdown",
   "metadata": {
    "application/vnd.databricks.v1+cell": {
     "cellMetadata": {},
     "inputWidgets": {},
     "nuid": "e7380622-5c3c-4b4e-80c0-870acbda408f",
     "showTitle": false,
     "tableResultSettingsMap": {},
     "title": ""
    }
   },
   "source": [
    "### Using Azure Storage File Share client library\n",
    "\n",
    "- Read file from file share\n",
    "- Write file from Unity Catalog into file share\n",
    "- List contents of file share \n",
    "\n",
    "##### Source\n",
    "[Azure File Share Python SDK](https://learn.microsoft.com/en-us/python/api/overview/azure/storage-file-share-readme?view=azure-python)\n",
    "\n",
    "![](connection-string.png)"
   ]
  },
  {
   "cell_type": "code",
   "execution_count": 0,
   "metadata": {
    "application/vnd.databricks.v1+cell": {
     "cellMetadata": {},
     "inputWidgets": {},
     "nuid": "1701a8ce-987d-4f16-b3ba-6c3d9136c807",
     "showTitle": false,
     "tableResultSettingsMap": {},
     "title": ""
    }
   },
   "outputs": [],
   "source": [
    "%pip install azure-storage-file-share\n",
    "%pip install aiohttp"
   ]
  },
  {
   "cell_type": "code",
   "execution_count": 0,
   "metadata": {
    "application/vnd.databricks.v1+cell": {
     "cellMetadata": {
      "byteLimit": 2048000,
      "rowLimit": 10000
     },
     "inputWidgets": {},
     "nuid": "3bce7e10-005b-408f-bca4-3d1247595fa6",
     "showTitle": false,
     "tableResultSettingsMap": {},
     "title": ""
    }
   },
   "outputs": [],
   "source": [
    "import io\n",
    "from azure.storage.fileshare import ShareFileClient\n",
    "from azure.storage.fileshare.aio import ShareDirectoryClient"
   ]
  },
  {
   "cell_type": "code",
   "execution_count": 0,
   "metadata": {
    "application/vnd.databricks.v1+cell": {
     "cellMetadata": {
      "byteLimit": 2048000,
      "rowLimit": 10000
     },
     "inputWidgets": {},
     "nuid": "1f60a842-62a9-4441-ae60-bcf15ae12abe",
     "showTitle": false,
     "tableResultSettingsMap": {},
     "title": ""
    }
   },
   "outputs": [],
   "source": [
    "# azure storage account connection string - can copy from Azure portal directly\n",
    "connection_string=\"DefaultEndpointsProtocol=https;AccountName=stadavidhurley;AccountKey=<accountkey>;EndpointSuffix=core.windows.net\""
   ]
  },
  {
   "cell_type": "code",
   "execution_count": 0,
   "metadata": {
    "application/vnd.databricks.v1+cell": {
     "cellMetadata": {
      "byteLimit": 2048000,
      "rowLimit": 10000
     },
     "inputWidgets": {},
     "nuid": "51447cd3-e656-4e28-a4b0-9f44e28f5aea",
     "showTitle": false,
     "tableResultSettingsMap": {},
     "title": ""
    }
   },
   "outputs": [],
   "source": [
    "file_share_name = \"myshare\"\n",
    "file_share_parent_dir = \"mydir\"\n",
    "catalog = \"users\"\n",
    "schema = \"david_hurley\"\n",
    "volume = \"azure_file_share_landing\""
   ]
  },
  {
   "cell_type": "markdown",
   "metadata": {
    "application/vnd.databricks.v1+cell": {
     "cellMetadata": {},
     "inputWidgets": {},
     "nuid": "3963e320-eff1-4dfa-acc8-9808dc86cb5c",
     "showTitle": false,
     "tableResultSettingsMap": {},
     "title": ""
    }
   },
   "source": [
    "List contents of a fileshare directory asynchronously from Azure File Share"
   ]
  },
  {
   "cell_type": "code",
   "execution_count": 0,
   "metadata": {
    "application/vnd.databricks.v1+cell": {
     "cellMetadata": {
      "byteLimit": 2048000,
      "rowLimit": 10000
     },
     "inputWidgets": {},
     "nuid": "bd1374b8-279b-47bd-9626-4ec23843034b",
     "showTitle": false,
     "tableResultSettingsMap": {},
     "title": ""
    }
   },
   "outputs": [
    {
     "output_type": "stream",
     "name": "stdout",
     "output_type": "stream",
     "text": [
      "['cost_comparison.csv', 'from_buffer.csv', 'from_buffer234.csv', 'test.csv', 'test123.csv', 'test3.csv', 'test45.csv']\n"
     ]
    }
   ],
   "source": [
    "from azure.storage.fileshare.aio import ShareDirectoryClient\n",
    "\n",
    "parent_dir = ShareDirectoryClient.from_connection_string(\n",
    "  conn_str=connection_string, \n",
    "  share_name=file_share_name, \n",
    "  directory_path=file_share_parent_dir\n",
    ")\n",
    "\n",
    "my_files = []\n",
    "async for item in parent_dir.list_directories_and_files():\n",
    "    my_files.append(item)\n",
    "\n",
    "file_names = [item['name'] for item in my_files]\n",
    "\n",
    "print(file_names)\n"
   ]
  },
  {
   "cell_type": "markdown",
   "metadata": {
    "application/vnd.databricks.v1+cell": {
     "cellMetadata": {},
     "inputWidgets": {},
     "nuid": "a6433087-ea1f-417b-b638-067c5a0c92a4",
     "showTitle": false,
     "tableResultSettingsMap": {},
     "title": ""
    }
   },
   "source": [
    "Download a file from Azure File Share and write to UC Volume"
   ]
  },
  {
   "cell_type": "code",
   "execution_count": 0,
   "metadata": {
    "application/vnd.databricks.v1+cell": {
     "cellMetadata": {
      "byteLimit": 2048000,
      "rowLimit": 10000
     },
     "inputWidgets": {},
     "nuid": "224eaf25-fb7e-4056-8373-7600cc878dee",
     "showTitle": false,
     "tableResultSettingsMap": {},
     "title": ""
    }
   },
   "outputs": [],
   "source": [
    "from azure.storage.fileshare import ShareFileClient\n",
    "import io\n",
    "\n",
    "for file_name in file_names:\n",
    "    file_client = ShareFileClient.from_connection_string(conn_str=connection_string, share_name=file_share_name, file_path=f\"{file_share_parent_dir}/{file_name}\")\n",
    "\n",
    "    file_bytes = io.BytesIO()\n",
    "    file_bytes.write(file_client.download_file().readall())\n",
    "    file_bytes.seek(0)\n",
    "\n",
    "    # stream to unity catalog external volume\n",
    "    with open(f\"/Volumes/{catalog}/{schema}/{volume}/{file_name}\", \"wb\") as f:\n",
    "        f.write(file_bytes.read())"
   ]
  },
  {
   "cell_type": "markdown",
   "metadata": {
    "application/vnd.databricks.v1+cell": {
     "cellMetadata": {},
     "inputWidgets": {},
     "nuid": "6189f7d2-d463-4bb0-a78e-5400f005a499",
     "showTitle": false,
     "tableResultSettingsMap": {},
     "title": ""
    }
   },
   "source": [
    "Read File From UC Volume and Upload to Azure File Share"
   ]
  },
  {
   "cell_type": "code",
   "execution_count": 0,
   "metadata": {
    "application/vnd.databricks.v1+cell": {
     "cellMetadata": {
      "byteLimit": 2048000,
      "rowLimit": 10000
     },
     "inputWidgets": {},
     "nuid": "dc854f0f-c363-42ad-9816-1fa23aa25fb6",
     "showTitle": false,
     "tableResultSettingsMap": {},
     "title": ""
    }
   },
   "outputs": [],
   "source": [
    "csv_buffer = io.StringIO()\n",
    "\n",
    "for file_name in file_names:\n",
    "    df = spark.read.csv(f\"/Volumes/{catalog}/{schema}/{volume}/{file_name}\", header=True, inferSchema=True).toPandas()\n",
    "\n",
    "    df.to_csv(csv_buffer, index=False)\n",
    "    csv_buffer.seek(0)\n",
    "\n",
    "    file_client = ShareFileClient.from_connection_string(\n",
    "        conn_str=connection_string,\n",
    "        share_name=file_share_name, \n",
    "        file_path=f\"{file_share_parent_dir}/{file_name}\" \n",
    "    )\n",
    "\n",
    "    file_client.upload_file(csv_buffer.getvalue())"
   ]
  }
 ],
 "metadata": {
  "application/vnd.databricks.v1+notebook": {
   "computePreferences": {
    "hardware": {
     "accelerator": null,
     "gpuPoolId": null,
     "memory": null
    }
   },
   "dashboards": [],
   "environmentMetadata": {
    "base_environment": "",
    "dependencies": [
     "azure-storage-file-share",
     "aiohttp"
    ],
    "environment_version": "2"
   },
   "inputWidgetPreferences": null,
   "language": "python",
   "notebookMetadata": {
    "mostRecentlyExecutedCommandWithImplicitDF": {
     "commandId": -1,
     "dataframes": [
      "_sqldf"
     ]
    },
    "pythonIndentUnit": 2
   },
   "notebookName": "azure-file-share-stream-from-uc",
   "widgets": {}
  },
  "language_info": {
   "name": "python"
  }
 },
 "nbformat": 4,
 "nbformat_minor": 0
}