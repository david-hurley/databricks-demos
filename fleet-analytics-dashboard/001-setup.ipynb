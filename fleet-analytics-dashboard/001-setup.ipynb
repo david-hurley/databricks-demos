{
 "cells": [
  {
   "cell_type": "markdown",
   "metadata": {
    "application/vnd.databricks.v1+cell": {
     "cellMetadata": {},
     "inputWidgets": {},
     "nuid": "5a8d3eb4-e9ea-4436-a535-c1b04cbf67db",
     "showTitle": false,
     "tableResultSettingsMap": {},
     "title": ""
    }
   },
   "source": [
    "### 001-setup\n",
    "1. create tables for bronze layer equipment GPS data and polygon boundaries\n",
    "2. create silver tables with GEOMETRY types for equipment GPS data and polygon boundaries\n",
    "3. register a Unity Catalog function to densify points along a polygon boundary"
   ]
  },
  {
   "cell_type": "code",
   "execution_count": 0,
   "metadata": {
    "application/vnd.databricks.v1+cell": {
     "cellMetadata": {
      "byteLimit": 2048000,
      "rowLimit": 10000
     },
     "inputWidgets": {},
     "nuid": "1bf438d7-6c8d-4f12-9b1b-958a226acab0",
     "showTitle": false,
     "tableResultSettingsMap": {},
     "title": ""
    }
   },
   "outputs": [],
   "source": [
    "import pandas as pd"
   ]
  },
  {
   "cell_type": "code",
   "execution_count": 0,
   "metadata": {
    "application/vnd.databricks.v1+cell": {
     "cellMetadata": {
      "byteLimit": 2048000,
      "rowLimit": 10000
     },
     "inputWidgets": {},
     "nuid": "189e2b09-a2e5-4ff5-977d-9957c261834c",
     "showTitle": false,
     "tableResultSettingsMap": {},
     "title": ""
    }
   },
   "outputs": [],
   "source": [
    "# modify to your catalog and schema\n",
    "catalog = \"users\"\n",
    "schema = \"david_hurley\""
   ]
  },
  {
   "cell_type": "markdown",
   "metadata": {
    "application/vnd.databricks.v1+cell": {
     "cellMetadata": {},
     "inputWidgets": {},
     "nuid": "8e93a4db-4baf-4f3e-a6cd-e1c7b46b0880",
     "showTitle": false,
     "tableResultSettingsMap": {},
     "title": ""
    }
   },
   "source": [
    "##### Step 1"
   ]
  },
  {
   "cell_type": "code",
   "execution_count": 0,
   "metadata": {
    "application/vnd.databricks.v1+cell": {
     "cellMetadata": {},
     "inputWidgets": {},
     "nuid": "9e133dfa-6c2c-4e80-abbd-c51298d97e95",
     "showTitle": false,
     "tableResultSettingsMap": {},
     "title": ""
    }
   },
   "outputs": [],
   "source": [
    "# load data from csv\n",
    "df_bronze_gps_data = pd.read_csv(\"data/equipment_gps_data.csv\")\n",
    "\n",
    "df_bronze_congestion_zone_data = pd.read_csv(\"data/congestion_zone_boundary_data.csv\")\n"
   ]
  },
  {
   "cell_type": "code",
   "execution_count": 0,
   "metadata": {
    "application/vnd.databricks.v1+cell": {
     "cellMetadata": {
      "byteLimit": 2048000,
      "rowLimit": 10000
     },
     "inputWidgets": {},
     "nuid": "dd29057b-9f84-459e-9beb-e54e3e37ee85",
     "showTitle": false,
     "tableResultSettingsMap": {},
     "title": ""
    }
   },
   "outputs": [],
   "source": [
    "# save data to delta tables\n",
    "spark_df_bronze_gps_data = spark.createDataFrame(df_bronze_gps_data).withColumnRenamed(\"lon\", \"longitude\").withColumnRenamed(\"lat\", \"latitude\").withColumnRenamed(\"trip_id\", \"route_id\").withColumnRenamed(\"vehicle_id\", \"equipment_id\")\n",
    "\n",
    "spark_df_bronze_gps_data.write.format(\"delta\").mode(\"overwrite\").saveAsTable(f\"{catalog}.{schema}.equipment_gps_data\")\n",
    "\n",
    "spark_df_bronze_congestion_zone_data = spark.createDataFrame(df_bronze_congestion_zone_data)\n",
    "\n",
    "spark_df_bronze_congestion_zone_data.write.format(\"delta\").mode(\"overwrite\").saveAsTable(f\"{catalog}.{schema}.congestion_zone_polygon_data\")"
   ]
  },
  {
   "cell_type": "markdown",
   "metadata": {
    "application/vnd.databricks.v1+cell": {
     "cellMetadata": {},
     "inputWidgets": {},
     "nuid": "f85faa84-8916-4073-9f29-5b3269886150",
     "showTitle": false,
     "tableResultSettingsMap": {},
     "title": ""
    }
   },
   "source": [
    "##### Step 2"
   ]
  },
  {
   "cell_type": "code",
   "execution_count": 0,
   "metadata": {
    "application/vnd.databricks.v1+cell": {
     "cellMetadata": {
      "byteLimit": 2048000,
      "rowLimit": 10000
     },
     "inputWidgets": {},
     "nuid": "71cdfc56-4854-40d5-b351-0972e1de42e1",
     "showTitle": false,
     "tableResultSettingsMap": {},
     "title": ""
    }
   },
   "outputs": [],
   "source": [
    "# create new tables with GEOMETRY types\n",
    "spark.sql(\n",
    "  f\"\"\"\n",
    "    CREATE OR REPLACE TABLE {catalog}.{schema}.equipment_gps_geom_data AS\n",
    "    SELECT\n",
    "        *,\n",
    "        st_transform(st_point(longitude, latitude, 4326), 3763) as point_geom\n",
    "    FROM {catalog}.{schema}.equipment_gps_data\n",
    "  \"\"\"\n",
    ")\n",
    "\n",
    "spark.sql(\n",
    "  f\"\"\"\n",
    "    CREATE OR REPLACE TABLE {catalog}.{schema}.congestion_zone_polygon_geom_data AS\n",
    "    SELECT\n",
    "      *,\n",
    "      st_transform(st_geomfromwkt(congestion_zone_polygon, 4326), 3763) AS polygon_geom\n",
    "    FROM {catalog}.{schema}.congestion_zone_polygon_data\n",
    "  \"\"\"\n",
    ")"
   ]
  },
  {
   "cell_type": "markdown",
   "metadata": {
    "application/vnd.databricks.v1+cell": {
     "cellMetadata": {},
     "inputWidgets": {},
     "nuid": "effab978-bf5f-4665-bdc5-3bd499445a05",
     "showTitle": false,
     "tableResultSettingsMap": {},
     "title": ""
    }
   },
   "source": [
    "##### Step 3"
   ]
  },
  {
   "cell_type": "code",
   "execution_count": 0,
   "metadata": {
    "application/vnd.databricks.v1+cell": {
     "cellMetadata": {
      "byteLimit": 2048000,
      "implicitDf": true,
      "rowLimit": 10000
     },
     "inputWidgets": {},
     "nuid": "3e79af60-6efd-4def-9b50-660549b35454",
     "showTitle": false,
     "tableResultSettingsMap": {},
     "title": ""
    }
   },
   "outputs": [],
   "source": [
    "# register a Unity Catalog function to densify points along a boundary\n",
    "spark.sql(\n",
    "  f\"\"\"\n",
    "    CREATE OR REPLACE FUNCTION {catalog}.{schema}.densify_polygon_boundary(\n",
    "      xmin DOUBLE, xmax DOUBLE, ymin DOUBLE, ymax DOUBLE, meter_spacing FLOAT\n",
    "    )\n",
    "    RETURNS ARRAY<STRUCT<x DOUBLE, y DOUBLE>>\n",
    "    LANGUAGE PYTHON\n",
    "    AS $$\n",
    "    from pyspark.sql import Row\n",
    "\n",
    "    def densify_boundary(xmin, xmax, ymin, ymax, meter_spacing):\n",
    "      points = []\n",
    "\n",
    "      x = xmin\n",
    "      while x <= xmax:\n",
    "          points.append(Row(x=x, y=ymin))\n",
    "          x += meter_spacing\n",
    "\n",
    "      y = ymin + meter_spacing\n",
    "      while y <= ymax:\n",
    "          points.append(Row(x=xmax, y=y))\n",
    "          y += meter_spacing\n",
    "\n",
    "      x = xmax - meter_spacing\n",
    "      while x >= xmin:\n",
    "          points.append(Row(x=x, y=ymax))\n",
    "          x -= meter_spacing\n",
    "\n",
    "      y = ymax - meter_spacing\n",
    "      while y > ymin:\n",
    "          points.append(Row(x=xmin, y=y))\n",
    "          y -= meter_spacing\n",
    "\n",
    "      return points\n",
    "\n",
    "    return densify_boundary(xmin, xmax, ymin, ymax, meter_spacing)\n",
    "    $$;\n",
    "  \"\"\"\n",
    ")"
   ]
  }
 ],
 "metadata": {
  "application/vnd.databricks.v1+notebook": {
   "computePreferences": null,
   "dashboards": [],
   "environmentMetadata": {
    "base_environment": "",
    "environment_version": "3"
   },
   "inputWidgetPreferences": null,
   "language": "python",
   "notebookMetadata": {
    "mostRecentlyExecutedCommandWithImplicitDF": {
     "commandId": -1,
     "dataframes": [
      "_sqldf"
     ]
    },
    "pythonIndentUnit": 2
   },
   "notebookName": "001-setup",
   "widgets": {}
  },
  "language_info": {
   "name": "python"
  }
 },
 "nbformat": 4,
 "nbformat_minor": 0
}
