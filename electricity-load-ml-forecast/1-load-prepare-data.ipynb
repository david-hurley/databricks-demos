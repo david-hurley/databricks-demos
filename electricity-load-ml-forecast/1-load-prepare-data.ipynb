{
 "cells": [
  {
   "cell_type": "markdown",
   "metadata": {
    "application/vnd.databricks.v1+cell": {
     "cellMetadata": {},
     "inputWidgets": {},
     "nuid": "a4a8034e-3847-47c4-b345-b6322da2adb1",
     "showTitle": false,
     "tableResultSettingsMap": {},
     "title": ""
    }
   },
   "source": [
    "#### Data Preperation\n",
    "Split raw CSV data into historical and incoming data and save as Unity Catalog delta table"
   ]
  },
  {
   "cell_type": "code",
   "execution_count": 0,
   "metadata": {
    "application/vnd.databricks.v1+cell": {
     "cellMetadata": {
      "byteLimit": 2048000,
      "rowLimit": 10000
     },
     "inputWidgets": {},
     "nuid": "6877cc38-6f07-4c03-be8a-d4836d42407f",
     "showTitle": false,
     "tableResultSettingsMap": {},
     "title": ""
    }
   },
   "outputs": [],
   "source": [
    "from pyspark.sql.functions import col, to_date, date_sub\n",
    "import matplotlib.pyplot as plt"
   ]
  },
  {
   "cell_type": "code",
   "execution_count": 0,
   "metadata": {
    "application/vnd.databricks.v1+cell": {
     "cellMetadata": {
      "byteLimit": 2048000,
      "rowLimit": 10000
     },
     "inputWidgets": {},
     "nuid": "bcd1ef40-4ad4-40f8-8733-51b733275fff",
     "showTitle": false,
     "tableResultSettingsMap": {},
     "title": ""
    }
   },
   "outputs": [],
   "source": [
    "# Read raw data from Volume into DataFrame\n",
    "df = spark.read.csv(\"/Volumes/dhurley_catalog/electricity_load_forecasting/raw/continuous_dataset.csv\", header=True, inferSchema=True)\n",
    "\n",
    "# Rename columns for clarity\n",
    "keep_columns = ['datetime', 'nat_demand', 'T2M_toc', 'QV2M_toc', 'TQL_toc', 'W2M_toc', 'holiday', 'school']\n",
    "df = df.select(*keep_columns)\n",
    "\n",
    "rename_columns = ['datetime', 'load', 'temperature', 'humidity', 'precipitation', 'wind_speed', 'holiday', 'school_day']\n",
    "df = df.toDF(*rename_columns)"
   ]
  },
  {
   "cell_type": "code",
   "execution_count": 0,
   "metadata": {
    "application/vnd.databricks.v1+cell": {
     "cellMetadata": {
      "byteLimit": 2048000,
      "rowLimit": 10000
     },
     "inputWidgets": {},
     "nuid": "db1fb3be-9c23-4444-943b-a87ac8614ff9",
     "showTitle": false,
     "tableResultSettingsMap": {},
     "title": ""
    }
   },
   "outputs": [],
   "source": [
    "# Weird drop after 2020-01-31, remove for demo purpose\n",
    "df = df.filter(col(\"datetime\") <= \"2020-01-31\")\n",
    "\n",
    "# Split into incoming and historical data\n",
    "incoming_df = df.filter(col(\"datetime\") >= \"2019-12-01\")\n",
    "historical_df = df.filter(col(\"datetime\") < \"2019-12-01\")\n",
    "\n",
    "# Write to table\n",
    "incoming_df.write.saveAsTable(\"dhurley_catalog.electricity_load_forecasting.incoming_load_data\")\n",
    "historical_df.write.saveAsTable(\"dhurley_catalog.electricity_load_forecasting.historical_load_data\")"
   ]
  },
  {
   "cell_type": "code",
   "execution_count": 0,
   "metadata": {
    "application/vnd.databricks.v1+cell": {
     "cellMetadata": {
      "byteLimit": 2048000,
      "rowLimit": 10000
     },
     "inputWidgets": {},
     "nuid": "066bd2f8-594f-403a-808b-df83d914bec4",
     "showTitle": false,
     "tableResultSettingsMap": {},
     "title": ""
    }
   },
   "outputs": [],
   "source": [
    "# Plot load for incoming and historical data\n",
    "incoming_pdf = incoming_df.select(\"datetime\", \"load\").toPandas()\n",
    "historical_pdf = historical_df.select(\"datetime\", \"load\").toPandas()\n",
    "\n",
    "plt.figure(figsize=(12, 6))\n",
    "plt.plot(incoming_pdf['datetime'], incoming_pdf['load'], label='Incoming Load', color='blue')\n",
    "plt.plot(historical_pdf['datetime'], historical_pdf['load'], label='Historical Load', color='red')\n",
    "plt.xlabel('Datetime')\n",
    "plt.ylabel('Load')\n",
    "plt.title('Electricity Load')\n",
    "plt.legend()\n",
    "plt.grid(True)\n",
    "plt.show()"
   ]
  }
 ],
 "metadata": {
  "application/vnd.databricks.v1+notebook": {
   "computePreferences": {
    "hardware": {
     "accelerator": null,
     "gpuPoolId": null,
     "memory": null
    }
   },
   "dashboards": [],
   "environmentMetadata": {
    "base_environment": "",
    "dependencies": [
     "kagglehub==0.3.12"
    ],
    "environment_version": "2"
   },
   "inputWidgetPreferences": null,
   "language": "python",
   "notebookMetadata": {
    "mostRecentlyExecutedCommandWithImplicitDF": {
     "commandId": 2841115366943128,
     "dataframes": [
      "_sqldf"
     ]
    },
    "pythonIndentUnit": 2
   },
   "notebookName": "1-load-prepare-data",
   "widgets": {}
  },
  "language_info": {
   "name": "python"
  }
 },
 "nbformat": 4,
 "nbformat_minor": 0
}
