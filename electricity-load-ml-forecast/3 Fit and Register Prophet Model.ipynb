{
 "cells": [
  {
   "cell_type": "markdown",
   "metadata": {
    "application/vnd.databricks.v1+cell": {
     "cellMetadata": {},
     "inputWidgets": {},
     "nuid": "5c3802a5-ae1c-499e-94cc-cee801e8f62f",
     "showTitle": false,
     "tableResultSettingsMap": {},
     "title": ""
    }
   },
   "source": [
    "#### Fit And Register Model\n"
   ]
  },
  {
   "cell_type": "code",
   "execution_count": 0,
   "metadata": {
    "application/vnd.databricks.v1+cell": {
     "cellMetadata": {
      "byteLimit": 2048000,
      "rowLimit": 10000
     },
     "inputWidgets": {},
     "nuid": "8a1ebe33-1e8f-45c0-94a6-c78e29fbebd9",
     "showTitle": false,
     "tableResultSettingsMap": {},
     "title": ""
    }
   },
   "outputs": [],
   "source": [
    "%pip install prophet==1.1.6\n",
    "%pip install mlflow --upgrade --pre\n",
    "dbutils.library.restartPython()"
   ]
  },
  {
   "cell_type": "code",
   "execution_count": 0,
   "metadata": {
    "application/vnd.databricks.v1+cell": {
     "cellMetadata": {
      "byteLimit": 2048000,
      "rowLimit": 10000
     },
     "inputWidgets": {},
     "nuid": "d4a29d47-1292-4a06-8f9b-85add063d334",
     "showTitle": false,
     "tableResultSettingsMap": {},
     "title": ""
    }
   },
   "outputs": [],
   "source": [
    "from prophet import Prophet\n",
    "from pyspark.sql.functions import col\n",
    "from sklearn.metrics import mean_absolute_error\n",
    "from mlflow.models.signature import infer_signature\n",
    "import matplotlib.pyplot as plt\n",
    "import mlflow"
   ]
  },
  {
   "cell_type": "code",
   "execution_count": 0,
   "metadata": {
    "application/vnd.databricks.v1+cell": {
     "cellMetadata": {
      "byteLimit": 2048000,
      "rowLimit": 10000
     },
     "inputWidgets": {},
     "nuid": "9139616e-c5bc-49df-a362-02c6a4ed6092",
     "showTitle": false,
     "tableResultSettingsMap": {},
     "title": ""
    }
   },
   "outputs": [],
   "source": [
    "catalog = \"dhurley_catalog\"\n",
    "schema = \"electricity_load_forecasting\"\n",
    "train_data = \"train_data\" # silver tables\n",
    "test_data = \"test_data\"\n",
    "registered_model_name = \"prophet_electricity_load_forecast\""
   ]
  },
  {
   "cell_type": "code",
   "execution_count": 0,
   "metadata": {
    "application/vnd.databricks.v1+cell": {
     "cellMetadata": {
      "byteLimit": 2048000,
      "rowLimit": 10000
     },
     "inputWidgets": {},
     "nuid": "7f5deee9-d1f9-4ea1-9b98-73fc84ab4b1d",
     "showTitle": false,
     "tableResultSettingsMap": {},
     "title": ""
    }
   },
   "outputs": [],
   "source": [
    "def add_regressors_prophet_model(model, df, exclude=[\"ds\", \"y\"]):\n",
    "  [model.add_regressor(col) for col in train_df_prophet.columns if col not in [\"ds\", \"y\"]]\n",
    "\n",
    "def create_prophet_model_dataframe(df):\n",
    "    \"\"\" Converts a Spark DataFrame to a Pandas DataFrame for Prophet model training \"\"\"\n",
    "    return df.select(\n",
    "        col(\"datetime\").alias(\"ds\"),\n",
    "        col(\"load\").alias(\"y\"), \n",
    "        *[col(c) for c in df.columns if c not in (\"datetime\", \"load\")]\n",
    "    ).toPandas()"
   ]
  },
  {
   "cell_type": "code",
   "execution_count": 0,
   "metadata": {
    "application/vnd.databricks.v1+cell": {
     "cellMetadata": {
      "byteLimit": 2048000,
      "rowLimit": 10000
     },
     "inputWidgets": {},
     "nuid": "d977c5a4-c229-4ac9-ab59-31bd6d61378b",
     "showTitle": false,
     "tableResultSettingsMap": {},
     "title": ""
    }
   },
   "outputs": [],
   "source": [
    "with mlflow.start_run(run_name = \"prophet_model_electricity_load\"):\n",
    "\n",
    "    # read train test data from silver UC tables\n",
    "    train_df = spark.table(f\"{catalog}.{schema}.{train_data}\")\n",
    "    test_df = spark.table(f\"{catalog}.{schema}.{test_data}\")\n",
    "\n",
    "    # convert train test data into pandas df expected by Prophet model\n",
    "    train_df_prophet = create_prophet_model_dataframe(train_df)\n",
    "    test_df_prophet = create_prophet_model_dataframe(test_df)\n",
    "\n",
    "    # fit Prophet model\n",
    "    prophetModel = Prophet()\n",
    "    add_regressors_prophet_model(prophetModel, train_df_prophet)\n",
    "    prophetModel.fit(train_df_prophet)\n",
    "\n",
    "    # predict with prophet model\n",
    "    predictions = prophetModel.predict(test_df_prophet)\n",
    "\n",
    "    # log performance metrics\n",
    "    mse = mean_absolute_error(test_df_prophet[\"y\"], predictions[\"yhat\"])\n",
    "    mlflow.log_metric(\"MeanAbsoluteError\", mse)\n",
    "\n",
    "    # log model for re-use\n",
    "    model_log = mlflow.prophet.log_model(\n",
    "        pr_model=prophetModel,\n",
    "        registered_model_name=f\"{catalog}.{schema}.{registered_model_name}\",\n",
    "        input_example=train_df_prophet.head(),\n",
    "        signature=mlflow.models.signature.infer_signature(train_df, predictions)\n",
    "    )\n",
    "\n",
    "    # log performance plot as artifact\n",
    "    plt_df = test_df_prophet[['ds', 'y']].merge(predictions[['ds', 'yhat']], on='ds')\n",
    "\n",
    "    fig = plt.figure(figsize=(8, 6))\n",
    "    plt.scatter(plt_df['y'], plt_df['yhat'], alpha=0.6, edgecolors='k', label='Predictions')\n",
    "\n",
    "    min_val, max_val = plt_df['y'].min(), plt_df['y'].max()\n",
    "    plt.plot([min_val, max_val], [min_val, max_val], 'r--', label='Perfect Prediction')\n",
    "\n",
    "    plt.title(\"Actual vs Predicted\")\n",
    "    plt.xlabel(\"Actual (y)\")\n",
    "    plt.ylabel(\"Predicted (yhat)\")\n",
    "    plt.legend()\n",
    "    plt.grid(True)\n",
    "    plt.tight_layout()\n",
    "    plt.show()\n",
    "\n",
    "    mlflow.log_figure(fig, \"actual_vs_predicted.png\")\n",
    "\n"
   ]
  }
 ],
 "metadata": {
  "application/vnd.databricks.v1+notebook": {
   "computePreferences": {
    "hardware": {
     "accelerator": null,
     "gpuPoolId": null,
     "memory": null
    }
   },
   "dashboards": [],
   "environmentMetadata": {
    "base_environment": "",
    "dependencies": [
     "prophet==1.1.6"
    ],
    "environment_version": "2"
   },
   "inputWidgetPreferences": null,
   "language": "python",
   "notebookMetadata": {
    "pythonIndentUnit": 2
   },
   "notebookName": "3 Fit and Register Prophet Model",
   "widgets": {}
  },
  "language_info": {
   "name": "python"
  }
 },
 "nbformat": 4,
 "nbformat_minor": 0
}
