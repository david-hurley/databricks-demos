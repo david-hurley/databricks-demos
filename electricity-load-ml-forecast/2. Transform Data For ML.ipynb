{
 "cells": [
  {
   "cell_type": "code",
   "execution_count": 0,
   "metadata": {
    "application/vnd.databricks.v1+cell": {
     "cellMetadata": {
      "byteLimit": 2048000,
      "rowLimit": 10000
     },
     "inputWidgets": {},
     "nuid": "15e82e9c-5d0d-40dc-9d43-f77ec91567ed",
     "showTitle": false,
     "tableResultSettingsMap": {},
     "title": ""
    }
   },
   "outputs": [],
   "source": [
    "%pip install dbl-tempo==0.1.29\n",
    "%pip install holidays==0.74\n",
    "dbutils.library.restartPython()"
   ]
  },
  {
   "cell_type": "code",
   "execution_count": 0,
   "metadata": {
    "application/vnd.databricks.v1+cell": {
     "cellMetadata": {
      "byteLimit": 2048000,
      "rowLimit": 10000
     },
     "inputWidgets": {},
     "nuid": "1ab4fa68-d9bb-4dc8-a179-a9e8902abfc9",
     "showTitle": false,
     "tableResultSettingsMap": {},
     "title": ""
    }
   },
   "outputs": [],
   "source": [
    "import warnings\n",
    "import holidays\n",
    "from pyspark.sql.types import IntegerType\n",
    "from pyspark.sql.functions import minute, dayofweek, when, col, udf, expr, first\n",
    "from tempo import *\n",
    "warnings.filterwarnings(\"ignore\")"
   ]
  },
  {
   "cell_type": "markdown",
   "metadata": {
    "application/vnd.databricks.v1+cell": {
     "cellMetadata": {
      "byteLimit": 2048000,
      "rowLimit": 10000
     },
     "inputWidgets": {},
     "nuid": "490c5327-5572-40e3-b68d-450030a6f399",
     "showTitle": false,
     "tableResultSettingsMap": {},
     "title": ""
    }
   },
   "source": [
    "# Overview\n",
    "**Prepare data for ML Forecasting**\n",
    "\n",
    "\n",
    "1. Load data from Bronze tables\n",
    "\n",
    "\n",
    "2. Clean Data\n",
    "  - Resample to common timebase\n",
    "  - Combine datasets, drop duplicates\n",
    "  - Filter datasets to desired time interval\n",
    "  - Create new features (weekends, holidays, lagged dependent variable)\n",
    "\n",
    "\n",
    "3. Save data to Silver table for ML Forecast\n",
    "![Image](artifacts/DataProcess.png)"
   ]
  },
  {
   "cell_type": "markdown",
   "metadata": {
    "application/vnd.databricks.v1+cell": {
     "cellMetadata": {
      "byteLimit": 2048000,
      "rowLimit": 10000
     },
     "inputWidgets": {},
     "nuid": "63e2ae89-2e48-42a6-bbb8-415facf838ba",
     "showTitle": false,
     "tableResultSettingsMap": {},
     "title": ""
    }
   },
   "source": [
    "### 1. Load Data"
   ]
  },
  {
   "cell_type": "code",
   "execution_count": 0,
   "metadata": {
    "application/vnd.databricks.v1+cell": {
     "cellMetadata": {
      "byteLimit": 2048000,
      "rowLimit": 10000
     },
     "inputWidgets": {},
     "nuid": "1dd2f2e7-1ccc-4967-bc3f-539ceed8184e",
     "showTitle": false,
     "tableResultSettingsMap": {},
     "title": ""
    }
   },
   "outputs": [],
   "source": [
    "catalog = \"users\"\n",
    "schema = \"david_hurley\"\n",
    "bronze_electricity_load_data = \"synthetic_electricity_load_data\"\n",
    "bronze_weather_data = \"synthetic_weather_data\""
   ]
  },
  {
   "cell_type": "code",
   "execution_count": 0,
   "metadata": {
    "application/vnd.databricks.v1+cell": {
     "cellMetadata": {
      "byteLimit": 2048000,
      "rowLimit": 10000
     },
     "inputWidgets": {},
     "nuid": "d5f43a35-8b5f-40a9-ba22-8bb2f4981fe5",
     "showTitle": false,
     "tableResultSettingsMap": {},
     "title": ""
    }
   },
   "outputs": [],
   "source": [
    "df_electricity_load_data = spark.table(f\"{catalog}.{schema}.{bronze_electricity_load_data}\")\n",
    "display(df_electricity_load_data)"
   ]
  },
  {
   "cell_type": "code",
   "execution_count": 0,
   "metadata": {
    "application/vnd.databricks.v1+cell": {
     "cellMetadata": {
      "byteLimit": 2048000,
      "rowLimit": 10000
     },
     "inputWidgets": {},
     "nuid": "78b125b2-f45c-484e-baa5-24e91d1ade91",
     "showTitle": false,
     "tableResultSettingsMap": {},
     "title": ""
    }
   },
   "outputs": [],
   "source": [
    "df_weather_data = spark.table(f\"{catalog}.{schema}.{bronze_weather_data}\")\n",
    "display(df_weather_data)"
   ]
  },
  {
   "cell_type": "markdown",
   "metadata": {
    "application/vnd.databricks.v1+cell": {
     "cellMetadata": {
      "byteLimit": 2048000,
      "rowLimit": 10000
     },
     "inputWidgets": {},
     "nuid": "ddd6b0a1-3a5c-4eaf-81a1-83078798fb5c",
     "showTitle": false,
     "tableResultSettingsMap": {},
     "title": ""
    }
   },
   "source": [
    "### 2. Clean Data"
   ]
  },
  {
   "cell_type": "markdown",
   "metadata": {
    "application/vnd.databricks.v1+cell": {
     "cellMetadata": {
      "byteLimit": 2048000,
      "rowLimit": 10000
     },
     "inputWidgets": {},
     "nuid": "0898c628-7fc9-41e8-9590-7ab419131c79",
     "showTitle": false,
     "tableResultSettingsMap": {},
     "title": ""
    }
   },
   "source": [
    "##### Resample Data to Minute Frequency"
   ]
  },
  {
   "cell_type": "code",
   "execution_count": 0,
   "metadata": {
    "application/vnd.databricks.v1+cell": {
     "cellMetadata": {
      "byteLimit": 2048000,
      "rowLimit": 10000
     },
     "inputWidgets": {},
     "nuid": "709924c4-f661-481d-b766-f36dc8e1d915",
     "showTitle": false,
     "tableResultSettingsMap": {},
     "title": ""
    }
   },
   "outputs": [],
   "source": [
    "def resample_data(df, ts_col: str, partition_cols: list, freq: str):\n",
    "  \"\"\" \n",
    "  Resample and interpolate time series data.\n",
    "\n",
    "  Parameters:\n",
    "  df (DataFrame): Input DataFrame containing time series data.\n",
    "  ts_col (str): Name of the timestamp column.\n",
    "  partition_cols (list): List of columns to partition by.\n",
    "  freq (str): Frequency to resample the data (e.g., 'min' for minute).\n",
    "\n",
    "  Returns:\n",
    "  DataFrame: Resampled and interpolated DataFrame.\n",
    "  \"\"\"\n",
    "  tsdf = TSDF(df, ts_col=ts_col, partition_cols=partition_cols)\n",
    "\n",
    "  tsdf_resampled = tsdf.resample(freq=freq, func='mean')\n",
    "\n",
    "  tsdf_interpolated = tsdf_resampled.interpolate(method=\"linear\")\n",
    "  \n",
    "  return tsdf_interpolated.df"
   ]
  },
  {
   "cell_type": "code",
   "execution_count": 0,
   "metadata": {
    "application/vnd.databricks.v1+cell": {
     "cellMetadata": {
      "byteLimit": 2048000,
      "rowLimit": 10000
     },
     "inputWidgets": {},
     "nuid": "2dea4b23-97cb-4ea5-a9e7-6cb1a28132c3",
     "showTitle": false,
     "tableResultSettingsMap": {},
     "title": ""
    }
   },
   "outputs": [],
   "source": [
    "# create new dataframes with resampled data at 1min interval\n",
    "df_electricity_load_data_resampled = resample_data(df_electricity_load_data, \"datetime\", [\"tagId\"], \"min\")\n",
    "df_weather_data_resampled = resample_data(df_weather_data, \"datetime\", [], \"min\")"
   ]
  },
  {
   "cell_type": "code",
   "execution_count": 0,
   "metadata": {
    "application/vnd.databricks.v1+cell": {
     "cellMetadata": {
      "byteLimit": 2048000,
      "rowLimit": 10000
     },
     "inputWidgets": {},
     "nuid": "b30c984d-6eed-4763-954f-4a5e0f8868cd",
     "showTitle": false,
     "tableResultSettingsMap": {},
     "title": ""
    }
   },
   "outputs": [],
   "source": [
    "display(df_electricity_load_data_resampled.orderBy(\"datetime\", \"tagId\"))"
   ]
  },
  {
   "cell_type": "code",
   "execution_count": 0,
   "metadata": {
    "application/vnd.databricks.v1+cell": {
     "cellMetadata": {
      "byteLimit": 2048000,
      "rowLimit": 10000
     },
     "inputWidgets": {},
     "nuid": "8a529a0a-4621-4494-9999-b67ce7a402cc",
     "showTitle": false,
     "tableResultSettingsMap": {},
     "title": ""
    }
   },
   "outputs": [],
   "source": [
    "display(df_weather_data_resampled.orderBy(\"datetime\"))"
   ]
  },
  {
   "cell_type": "markdown",
   "metadata": {
    "application/vnd.databricks.v1+cell": {
     "cellMetadata": {
      "byteLimit": 2048000,
      "rowLimit": 10000
     },
     "inputWidgets": {},
     "nuid": "fd2a7c22-733b-4987-a987-626c91d952c1",
     "showTitle": false,
     "tableResultSettingsMap": {},
     "title": ""
    }
   },
   "source": [
    "##### Combine Datasets, Drop Duplicates, Filter to 15min Interval"
   ]
  },
  {
   "cell_type": "code",
   "execution_count": 0,
   "metadata": {
    "application/vnd.databricks.v1+cell": {
     "cellMetadata": {
      "byteLimit": 2048000,
      "rowLimit": 10000
     },
     "inputWidgets": {},
     "nuid": "4ea1e02f-973b-4cde-bb4c-b14c049b0029",
     "showTitle": false,
     "tableResultSettingsMap": {},
     "title": ""
    }
   },
   "outputs": [],
   "source": [
    "# combine resampled datasets\n",
    "combined_df = df_electricity_load_data_resampled.join(df_weather_data_resampled, on=\"datetime\", how=\"inner\")\n",
    "\n",
    "# drop any duplicate tagId and datetime, keep first\n",
    "combined_df = combined_df.dropDuplicates([\"tagId\", \"datetime\"])\n",
    "\n",
    "# keep only data every 15min\n",
    "combined_df_15min = combined_df.filter(minute(combined_df['datetime']) % 15 == 0)\n",
    "\n",
    "display(combined_df_15min.orderBy(\"datetime\", \"tagId\"))"
   ]
  },
  {
   "cell_type": "markdown",
   "metadata": {
    "application/vnd.databricks.v1+cell": {
     "cellMetadata": {
      "byteLimit": 2048000,
      "rowLimit": 10000
     },
     "inputWidgets": {},
     "nuid": "b00d9a3a-925c-4076-9dff-fc24775bf197",
     "showTitle": false,
     "tableResultSettingsMap": {},
     "title": ""
    }
   },
   "source": [
    "##### Create New Columns for Weekend and Holidays"
   ]
  },
  {
   "cell_type": "code",
   "execution_count": 0,
   "metadata": {
    "application/vnd.databricks.v1+cell": {
     "cellMetadata": {
      "byteLimit": 2048000,
      "rowLimit": 10000
     },
     "inputWidgets": {},
     "nuid": "df335138-a533-458f-9058-cd10cf720506",
     "showTitle": false,
     "tableResultSettingsMap": {},
     "title": ""
    }
   },
   "outputs": [],
   "source": [
    "# saturday and sunday are get a \"1\", rest are \"0\"\n",
    "combined_df_15min = combined_df_15min.withColumn(\n",
    "    \"weekend\",\n",
    "    when(dayofweek(col(\"datetime\")).isin(1, 7), 1).otherwise(0)\n",
    ")\n",
    "\n",
    "# panama electricity data so get list of panama holidays\n",
    "# create new column with \"1\" for holiday\n",
    "panama_holidays = holidays.PA()\n",
    "\n",
    "def is_holiday(date):\n",
    "    return 1 if date in panama_holidays else 0\n",
    "\n",
    "is_holiday_udf = udf(is_holiday, IntegerType())\n",
    "\n",
    "combined_df_15min = combined_df_15min.withColumn(\"is_holiday\", is_holiday_udf(col(\"datetime\").cast(\"date\")))\n",
    "\n",
    "display(combined_df_15min.orderBy(\"datetime\", \"tagId\"))"
   ]
  },
  {
   "cell_type": "markdown",
   "metadata": {
    "application/vnd.databricks.v1+cell": {
     "cellMetadata": {
      "byteLimit": 2048000,
      "rowLimit": 10000
     },
     "inputWidgets": {},
     "nuid": "88b786f9-fd48-46b7-be2a-2fd1a0b7a0bd",
     "showTitle": false,
     "tableResultSettingsMap": {},
     "title": ""
    }
   },
   "source": [
    "##### Create New Column for Lagged Load Data (T-1day)"
   ]
  },
  {
   "cell_type": "code",
   "execution_count": 0,
   "metadata": {
    "application/vnd.databricks.v1+cell": {
     "cellMetadata": {
      "byteLimit": 2048000,
      "rowLimit": 10000
     },
     "inputWidgets": {},
     "nuid": "2c6c6f74-0827-4479-b7d9-0b6d52b631fe",
     "showTitle": false,
     "tableResultSettingsMap": {},
     "title": ""
    }
   },
   "outputs": [],
   "source": [
    "# shift date on load by 1 day and join on tagId to get T-1 load as a predictor\n",
    "lagged_load = combined_df_15min.select(\"tagId\", \"datetime\", \"load\") \\\n",
    "              .withColumn(\"datetime\", expr(\"datetime + interval 1 day\")) \\\n",
    "              .withColumnRenamed(\"load\", \"lagged_load\")\n",
    "\n",
    "combined_df_15min = combined_df_15min.join(lagged_load, on=[\"tagId\", \"datetime\"], how=\"left\")\n",
    "\n",
    "# the first 1 day will have null in lagged load, so drop\n",
    "combined_df_15min = combined_df_15min.filter(col(\"lagged_load\").isNotNull())\n",
    "\n",
    "display(combined_df_15min.orderBy(\"datetime\", \"tagId\"))"
   ]
  },
  {
   "cell_type": "markdown",
   "metadata": {
    "application/vnd.databricks.v1+cell": {
     "cellMetadata": {
      "byteLimit": 2048000,
      "rowLimit": 10000
     },
     "inputWidgets": {},
     "nuid": "24c25c10-6ed8-4c2f-82cb-afda05f0922e",
     "showTitle": false,
     "tableResultSettingsMap": {},
     "title": ""
    }
   },
   "source": [
    "### 3. Save Silver Table\n"
   ]
  },
  {
   "cell_type": "code",
   "execution_count": 0,
   "metadata": {
    "application/vnd.databricks.v1+cell": {
     "cellMetadata": {
      "byteLimit": 2048000,
      "rowLimit": 10000
     },
     "inputWidgets": {},
     "nuid": "415baea1-984f-4630-a9a1-757b3a800699",
     "showTitle": false,
     "tableResultSettingsMap": {},
     "title": ""
    }
   },
   "outputs": [],
   "source": [
    "combined_df_15min.write.mode(\"overwrite\").saveAsTable(f\"{catalog}.{schema}.silver_load_forecasting\")"
   ]
  }
 ],
 "metadata": {
  "application/vnd.databricks.v1+notebook": {
   "computePreferences": null,
   "dashboards": [],
   "environmentMetadata": {
    "base_environment": "",
    "environment_version": "2"
   },
   "inputWidgetPreferences": null,
   "language": "python",
   "notebookMetadata": {
    "pythonIndentUnit": 2
   },
   "notebookName": "2. Transform Data For ML",
   "widgets": {}
  },
  "language_info": {
   "name": "python"
  }
 },
 "nbformat": 4,
 "nbformat_minor": 0
}
