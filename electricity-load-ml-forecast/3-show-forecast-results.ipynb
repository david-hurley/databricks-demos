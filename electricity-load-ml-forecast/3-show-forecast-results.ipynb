{
 "cells": [
  {
   "cell_type": "code",
   "execution_count": 0,
   "metadata": {
    "application/vnd.databricks.v1+cell": {
     "cellMetadata": {
      "byteLimit": 2048000,
      "rowLimit": 10000
     },
     "inputWidgets": {},
     "nuid": "2390454b-ffcc-48c4-8bc1-d1d0411ab494",
     "showTitle": false,
     "tableResultSettingsMap": {},
     "title": ""
    }
   },
   "outputs": [],
   "source": [
    "forecast_df = spark.table(\"dhurley_catalog.electricity_load_forecasting.forecasted_load_data\")\n",
    "incoming_df = spark.table(\"dhurley_catalog.electricity_load_forecasting.incoming_load_data\")"
   ]
  },
  {
   "cell_type": "code",
   "execution_count": 0,
   "metadata": {
    "application/vnd.databricks.v1+cell": {
     "cellMetadata": {
      "byteLimit": 2048000,
      "rowLimit": 10000
     },
     "inputWidgets": {},
     "nuid": "62dcedd1-fda1-416e-8fd8-b858d5d3b74b",
     "showTitle": false,
     "tableResultSettingsMap": {},
     "title": ""
    }
   },
   "outputs": [],
   "source": [
    "import matplotlib.pyplot as plt\n",
    "\n",
    "# Plot load for incoming and historical data\n",
    "incoming_pdf = incoming_df.select(\"datetime\", \"load\").toPandas()\n",
    "forecast_pdf = forecast_df.select(\"datetime\", \"load_forecast\").toPandas()\n",
    "\n",
    "plt.figure(figsize=(12, 6))\n",
    "plt.plot(incoming_pdf['datetime'], incoming_pdf['load'], label='Incoming Load', color='blue')\n",
    "plt.plot(forecast_pdf['datetime'], forecast_pdf['load_forecast'], label='Forecast Load', color='red')\n",
    "plt.xlabel('Datetime')\n",
    "plt.ylabel('Load')\n",
    "plt.title('Electricity Load')\n",
    "plt.legend()\n",
    "plt.grid(True)\n",
    "plt.show()"
   ]
  },
  {
   "cell_type": "code",
   "execution_count": 0,
   "metadata": {
    "application/vnd.databricks.v1+cell": {
     "cellMetadata": {},
     "inputWidgets": {},
     "nuid": "b535445e-c004-4183-95e1-b89150ade690",
     "showTitle": false,
     "tableResultSettingsMap": {},
     "title": ""
    }
   },
   "outputs": [],
   "source": []
  }
 ],
 "metadata": {
  "application/vnd.databricks.v1+notebook": {
   "computePreferences": null,
   "dashboards": [],
   "environmentMetadata": {
    "base_environment": "",
    "environment_version": "2"
   },
   "inputWidgetPreferences": null,
   "language": "python",
   "notebookMetadata": {
    "pythonIndentUnit": 2
   },
   "notebookName": "3-show-forecast-results",
   "widgets": {}
  },
  "language_info": {
   "name": "python"
  }
 },
 "nbformat": 4,
 "nbformat_minor": 0
}
