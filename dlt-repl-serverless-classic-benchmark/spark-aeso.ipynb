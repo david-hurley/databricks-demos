{
 "cells": [
  {
   "cell_type": "markdown",
   "metadata": {
    "application/vnd.databricks.v1+cell": {
     "cellMetadata": {},
     "inputWidgets": {},
     "nuid": "e9ad310e-5079-4c06-8850-d019309a6971",
     "showTitle": false,
     "tableResultSettingsMap": {},
     "title": ""
    }
   },
   "source": [
    "%md\n",
    "Run `setup.ipynb` the first time - create fresh table - do not run setup in an automated job"
   ]
  },
  {
   "cell_type": "code",
   "execution_count": 0,
   "metadata": {
    "application/vnd.databricks.v1+cell": {
     "cellMetadata": {
      "byteLimit": 2048000,
      "rowLimit": 10000
     },
     "inputWidgets": {},
     "nuid": "67d41c89-4b25-4cee-8e80-e637cd5affe9",
     "showTitle": false,
     "tableResultSettingsMap": {},
     "title": ""
    }
   },
   "outputs": [],
   "source": [
    "from aeso_api import aeso\n",
    "from datetime import datetime, timedelta\n",
    "from pyspark.sql.functions import current_timestamp\n",
    "import pytz"
   ]
  },
  {
   "cell_type": "code",
   "execution_count": 0,
   "metadata": {
    "application/vnd.databricks.v1+cell": {
     "cellMetadata": {
      "byteLimit": 2048000,
      "rowLimit": 10000
     },
     "inputWidgets": {},
     "nuid": "c4bb5042-3c88-472f-a372-dd433a2b3759",
     "showTitle": false,
     "tableResultSettingsMap": {},
     "title": ""
    }
   },
   "outputs": [],
   "source": [
    "# AESO API key and instance initialization\n",
    "aeso_api_key = 'b3b431c1c956490580df23f395786ba6'\n",
    "aeso_instance = aeso(aeso_api_key)\n",
    "\n",
    "# Get Current Date, and Current Date + 1\n",
    "utc_time = pytz.utc.localize(datetime.utcnow())\n",
    "calgary_time = utc_time.astimezone(pytz.timezone(\"America/Edmonton\"))\n",
    "\n",
    "start_date = (calgary_time - timedelta(hours=1)).strftime(\"%Y-%m-%d\")\n",
    "end_date = (calgary_time).strftime(\"%Y-%m-%d\")\n",
    "\n",
    "# Fetch pool price report from AESO API\n",
    "resp = aeso_instance.get_pool_price_report(\n",
    "    start_date=start_date, end_date=end_date\n",
    ")"
   ]
  },
  {
   "cell_type": "code",
   "execution_count": 0,
   "metadata": {
    "application/vnd.databricks.v1+cell": {
     "cellMetadata": {
      "byteLimit": 2048000,
      "rowLimit": 10000
     },
     "inputWidgets": {},
     "nuid": "a1890986-718d-425d-adce-d9e612ccb8b6",
     "showTitle": false,
     "tableResultSettingsMap": {},
     "title": ""
    }
   },
   "outputs": [],
   "source": [
    "data = []\n",
    "for r in resp:\n",
    "    data.append(\n",
    "        {\n",
    "            \"date\": str(r.begin_datetime_utc),\n",
    "            \"poolPrice\": str(r.pool_price)\n",
    "        }\n",
    "    )\n",
    "df = spark.createDataFrame(data)\n",
    "df.write.mode(\"append\").saveAsTable(\"dhurley_catalog.benchmarks.aeso_pool_prices\")"
   ]
  }
 ],
 "metadata": {
  "application/vnd.databricks.v1+notebook": {
   "computePreferences": null,
   "dashboards": [],
   "environmentMetadata": {
    "base_environment": "",
    "environment_version": "2"
   },
   "inputWidgetPreferences": null,
   "language": "python",
   "notebookMetadata": {
    "pythonIndentUnit": 2
   },
   "notebookName": "spark-aeso",
   "widgets": {}
  },
  "language_info": {
   "name": "python"
  }
 },
 "nbformat": 4,
 "nbformat_minor": 0
}
