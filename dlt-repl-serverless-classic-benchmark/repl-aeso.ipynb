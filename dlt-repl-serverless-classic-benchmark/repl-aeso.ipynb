{
 "cells": [
  {
   "cell_type": "markdown",
   "metadata": {
    "application/vnd.databricks.v1+cell": {
     "cellMetadata": {},
     "inputWidgets": {},
     "nuid": "52397935-3e0a-4aac-ab2a-d5eb4be9f8af",
     "showTitle": false,
     "tableResultSettingsMap": {},
     "title": ""
    }
   },
   "source": [
    "Run `setup.ipynb` the first time - create fresh table - do not run setup in an automated job"
   ]
  },
  {
   "cell_type": "code",
   "execution_count": 0,
   "metadata": {
    "application/vnd.databricks.v1+cell": {
     "cellMetadata": {
      "byteLimit": 2048000,
      "rowLimit": 10000
     },
     "inputWidgets": {},
     "nuid": "a0f917f0-a8f0-4a72-a766-ae01d62ebcec",
     "showTitle": false,
     "tableResultSettingsMap": {},
     "title": ""
    }
   },
   "outputs": [],
   "source": [
    "from aeso_api import aeso\n",
    "from datetime import datetime, timedelta\n",
    "from daft.unity_catalog import UnityCatalog\n",
    "import pytz\n",
    "import daft\n",
    "\n",
    "# point Daft to your UC server\n",
    "unity = UnityCatalog(\n",
    "    endpoint=\"https://adb-984752964297111.11.azuredatabricks.net/\",\n",
    "    token=(\n",
    "        dbutils.notebook.entry_point.getDbutils()\n",
    "        .notebook()\n",
    "        .getContext()\n",
    "        .apiToken()\n",
    "        .getOrElse(None)\n",
    "    ),\n",
    ")\n",
    "\n",
    "# load UC table - empty after running setup notebook\n",
    "unity_table = unity.load_table(\"dhurley_catalog.benchmarks.aeso_pool_prices\")"
   ]
  },
  {
   "cell_type": "code",
   "execution_count": 0,
   "metadata": {
    "application/vnd.databricks.v1+cell": {
     "cellMetadata": {
      "byteLimit": 2048000,
      "rowLimit": 10000
     },
     "inputWidgets": {},
     "nuid": "244a7498-b414-4e18-a5b5-4cd33d8559ef",
     "showTitle": false,
     "tableResultSettingsMap": {},
     "title": ""
    }
   },
   "outputs": [],
   "source": [
    "# AESO API key and instance initialization\n",
    "aeso_api_key = 'b3b431c1c956490580df23f395786ba6'\n",
    "aeso_instance = aeso(aeso_api_key)\n",
    "\n",
    "# Get Current Date, and Current Date + 1\n",
    "utc_time = pytz.utc.localize(datetime.utcnow())\n",
    "calgary_time = utc_time.astimezone(pytz.timezone(\"America/Edmonton\"))\n",
    "\n",
    "start_date = (calgary_time - timedelta(hours=1)).strftime(\"%Y-%m-%d\")\n",
    "end_date = (calgary_time).strftime(\"%Y-%m-%d\")\n",
    "\n",
    "# Fetch pool price report from AESO API\n",
    "resp = aeso_instance.get_pool_price_report(\n",
    "    start_date=start_date, end_date=end_date\n",
    ")"
   ]
  },
  {
   "cell_type": "code",
   "execution_count": 0,
   "metadata": {
    "application/vnd.databricks.v1+cell": {
     "cellMetadata": {
      "byteLimit": 2048000,
      "rowLimit": 10000
     },
     "inputWidgets": {},
     "nuid": "b96d34cb-7ea9-4e11-91cd-4bad6254618b",
     "showTitle": false,
     "tableResultSettingsMap": {},
     "title": ""
    }
   },
   "outputs": [],
   "source": [
    "# Format AESO API response to dictionary\n",
    "data = {\n",
    "    \"date\": [str(p.begin_datetime_utc) for p in resp if p.pool_price is not None],\n",
    "    \"poolPrice\": [str(p.pool_price) for p in resp if p.pool_price is not None]\n",
    "}\n",
    "\n",
    "# Write to delta table in UC\n",
    "daft_df = daft.from_pydict(data)\n",
    "daft_df.write_deltalake(unity_table, mode='append')"
   ]
  },
  {
   "cell_type": "code",
   "execution_count": 0,
   "metadata": {
    "application/vnd.databricks.v1+cell": {
     "cellMetadata": {
      "byteLimit": 2048000,
      "rowLimit": 10000
     },
     "inputWidgets": {},
     "nuid": "f3b0e888-f571-4704-a6d1-0c63a74a5a09",
     "showTitle": false,
     "tableResultSettingsMap": {},
     "title": ""
    }
   },
   "outputs": [],
   "source": [
    "import dbdemos\n",
    "dbdemos.install('uc-04-system-tables', catalog='main', schema='billing_forecast')"
   ]
  },
  {
   "cell_type": "code",
   "execution_count": 0,
   "metadata": {
    "application/vnd.databricks.v1+cell": {
     "cellMetadata": {
      "byteLimit": 2048000,
      "rowLimit": 10000
     },
     "inputWidgets": {},
     "nuid": "6525ece8-235f-4ccd-85ad-335f831b01cb",
     "showTitle": false,
     "tableResultSettingsMap": {},
     "title": ""
    }
   },
   "outputs": [],
   "source": [
    "%pip install dbdemos\n",
    "\n"
   ]
  },
  {
   "cell_type": "code",
   "execution_count": 0,
   "metadata": {
    "application/vnd.databricks.v1+cell": {
     "cellMetadata": {},
     "inputWidgets": {},
     "nuid": "9664d7e7-4c26-4765-8ef5-cf8d876d4f7e",
     "showTitle": false,
     "tableResultSettingsMap": {},
     "title": ""
    }
   },
   "outputs": [],
   "source": []
  }
 ],
 "metadata": {
  "application/vnd.databricks.v1+notebook": {
   "computePreferences": {
    "hardware": {
     "accelerator": null,
     "gpuPoolId": null,
     "memory": null
    }
   },
   "dashboards": [],
   "environmentMetadata": {
    "base_environment": "",
    "dependencies": [
     "getdaft[unity,deltalake]",
     "httpx==0.27.2",
     "pyarrow ==16.0.0"
    ],
    "environment_version": "2"
   },
   "inputWidgetPreferences": null,
   "language": "python",
   "notebookMetadata": {
    "mostRecentlyExecutedCommandWithImplicitDF": {
     "commandId": 1144435745008055,
     "dataframes": [
      "_sqldf"
     ]
    },
    "pythonIndentUnit": 2
   },
   "notebookName": "repl-aeso",
   "widgets": {}
  },
  "language_info": {
   "name": "python"
  }
 },
 "nbformat": 4,
 "nbformat_minor": 0
}
