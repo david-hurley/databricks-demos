{
 "cells": [
  {
   "cell_type": "markdown",
   "metadata": {
    "application/vnd.databricks.v1+cell": {
     "cellMetadata": {},
     "inputWidgets": {},
     "nuid": "b3a6d6fb-ef60-4f73-9358-561c08df2883",
     "showTitle": false,
     "tableResultSettingsMap": {},
     "title": ""
    }
   },
   "source": [
    "### Task\n",
    "- fetch data via API request\n",
    "- append data to UC table\n",
    "\n",
    "### Goal\n",
    "- Understand cost implications of doing this task with Python REPL vs Spark and using various compute, such as serverless, job cluster, performance enabled, photon enabled, DLT pipeline"
   ]
  },
  {
   "cell_type": "code",
   "execution_count": 0,
   "metadata": {
    "application/vnd.databricks.v1+cell": {
     "cellMetadata": {
      "byteLimit": 2048000,
      "rowLimit": 10000
     },
     "inputWidgets": {},
     "nuid": "a1965a77-c10c-468e-bc8f-230c713f02c0",
     "showTitle": false,
     "tableResultSettingsMap": {},
     "title": ""
    }
   },
   "outputs": [],
   "source": [
    "# Hard code dlt pipeline id to fetch correct billing -> dlt has no job id (???)\n",
    "dlt_id_map = {\n",
    "  'dlt-serverless-standard-photon': '481460ab-abce-4ba1-bc70-624d7191762a',\n",
    "  'dlt-serverless-performant-photon': '9d85ee72-7a03-459e-b298-346be2571537'\n",
    "}\n",
    "\n",
    "# Hard code job id to fetch correct billing\n",
    "job_id_map = {\n",
    "  'repl-aeso-job-cluster': 163538606946367,\n",
    "  'repl-aeso-serverless-performant': 503681326349336,\n",
    "  'repl-aeso-serverless-standard': 293483550497750,\n",
    "  'spark-aeso-job-cluster': 414113030992173,\n",
    "  'spark-aeso-serverless-performant': 17484259545284,\n",
    "  'spark-aeso-serverless-standard': 572384069053560,\n",
    "  'spark-aeso-job-cluster-pooled': 485989541203671\n",
    "}\n",
    "\n",
    "\n",
    "# Mung into dataframe\n",
    "job_id_map_df = spark.createDataFrame(\n",
    "  [(key, str(value)) for key, value in job_id_map.items()], \n",
    "  [\"job_name\", \"job_id\"]\n",
    "  )\n",
    "\n",
    "dlt_id_map_df = spark.createDataFrame(\n",
    "  [(key, str(value)) for key, value in dlt_id_map.items()], \n",
    "  [\"job_name\", \"dlt_pipeline_id\"]\n",
    "  )\n",
    "\n",
    "# Create views to query billing tables\n",
    "job_id_map_df.createOrReplaceTempView(\"job_id_map_view\")\n",
    "dlt_id_map_df.createOrReplaceTempView(\"dlt_id_map_view\")"
   ]
  },
  {
   "cell_type": "code",
   "execution_count": 0,
   "metadata": {
    "application/vnd.databricks.v1+cell": {
     "cellMetadata": {
      "byteLimit": 2048000,
      "implicitDf": true,
      "rowLimit": 10000
     },
     "inputWidgets": {},
     "nuid": "33ed2fc1-6d0a-467d-871d-e6254b42e5e7",
     "showTitle": false,
     "tableResultSettingsMap": {},
     "title": ""
    }
   },
   "outputs": [],
   "source": [
    "%sql \n",
    "CREATE OR REPLACE TEMP VIEW total_cost_usd_view AS\n",
    "WITH \n",
    "job_usage AS (\n",
    "  SELECT\n",
    "    t1.*,\n",
    "    t2.job_name as job_name\n",
    "  FROM \n",
    "    system.billing.usage as t1\n",
    "  INNER JOIN job_id_map_view as t2\n",
    "  ON t1.usage_metadata.job_id = t2.job_id\n",
    "  WHERE\n",
    "    identity_metadata.run_as = 'david.hurley@databricks.com'\n",
    "    AND usage_unit = 'DBU'\n",
    "),\n",
    "dlt_usage AS (\n",
    "  SELECT\n",
    "    t1.*,\n",
    "    t2.job_name as job_name\n",
    "  FROM \n",
    "    system.billing.usage as t1\n",
    "  INNER JOIN dlt_id_map_view as t2\n",
    "  ON t1.usage_metadata.dlt_pipeline_id = t2.dlt_pipeline_id\n",
    "  WHERE\n",
    "    identity_metadata.run_as = 'david.hurley@databricks.com'\n",
    "    AND usage_unit = 'DBU'\n",
    "),\n",
    "all_usage AS (\n",
    "  SELECT * FROM job_usage\n",
    "    UNION ALL\n",
    "  SELECT * FROM dlt_usage\n",
    "),\n",
    "sku_pricing AS (\n",
    "  SELECT\n",
    "    *,\n",
    "    coalesce(price_end_time, date_add(current_date, 1)) AS coalesced_price_end_time\n",
    "  FROM system.billing.list_prices\n",
    "  WHERE currency_code = 'USD'\n",
    "),\n",
    "job_cost AS (\n",
    "  SELECT\n",
    "    t1.*,\n",
    "    coalesce(t1.usage_quantity * t2.pricing.default, 0) as usage_cost\n",
    "  FROM all_usage AS t1\n",
    "  LEFT JOIN sku_pricing AS t2\n",
    "    on t1.sku_name=t2.sku_name\n",
    "    and t1.usage_unit=t2.usage_unit\n",
    "    and (t1.usage_end_time between t2.price_start_time and t2.coalesced_price_end_time)\n",
    "),\n",
    "total_cost AS (\n",
    "  SELECT  \n",
    "    job_name,\n",
    "    sum(usage_cost) as total_cost_usd\n",
    "  FROM job_cost\n",
    "  GROUP BY job_name\n",
    ")\n",
    "SELECT * FROM total_cost"
   ]
  },
  {
   "cell_type": "code",
   "execution_count": 0,
   "metadata": {
    "application/vnd.databricks.v1+cell": {
     "cellMetadata": {
      "byteLimit": 2048000,
      "rowLimit": 10000
     },
     "inputWidgets": {},
     "nuid": "03aedead-b0c5-4293-b8c0-c53622b8a2c0",
     "showTitle": false,
     "tableResultSettingsMap": {},
     "title": ""
    }
   },
   "outputs": [],
   "source": [
    "total_cost_usd_df = spark.table(\"total_cost_usd_view\")\n",
    "total_cost_usd_df = total_cost_usd_df.orderBy(\"total_cost_usd\")\n",
    "display(total_cost_usd_df)"
   ]
  },
  {
   "cell_type": "code",
   "execution_count": 0,
   "metadata": {
    "application/vnd.databricks.v1+cell": {
     "cellMetadata": {},
     "inputWidgets": {},
     "nuid": "40835096-e59d-4115-ac0a-c3718430b8e7",
     "showTitle": false,
     "tableResultSettingsMap": {},
     "title": ""
    }
   },
   "outputs": [],
   "source": []
  }
 ],
 "metadata": {
  "application/vnd.databricks.v1+notebook": {
   "computePreferences": null,
   "dashboards": [],
   "environmentMetadata": {
    "base_environment": "",
    "environment_version": "2"
   },
   "inputWidgetPreferences": null,
   "language": "python",
   "notebookMetadata": {
    "mostRecentlyExecutedCommandWithImplicitDF": {
     "commandId": 1144435745019354,
     "dataframes": [
      "_sqldf"
     ]
    },
    "pythonIndentUnit": 2
   },
   "notebookName": "cost-comparison",
   "widgets": {}
  },
  "language_info": {
   "name": "python"
  }
 },
 "nbformat": 4,
 "nbformat_minor": 0
}
