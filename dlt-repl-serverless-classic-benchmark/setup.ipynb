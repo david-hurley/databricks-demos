{
 "cells": [
  {
   "cell_type": "code",
   "execution_count": 0,
   "metadata": {
    "application/vnd.databricks.v1+cell": {
     "cellMetadata": {
      "byteLimit": 2048000,
      "implicitDf": true,
      "rowLimit": 10000
     },
     "inputWidgets": {},
     "nuid": "ef528a9e-2020-4863-bc01-522f7f0d27d4",
     "showTitle": false,
     "tableResultSettingsMap": {},
     "title": ""
    }
   },
   "outputs": [],
   "source": [
    "%sql\n",
    "-- Daft needs deletionVectors disabled, clobber the existing table, don't try to update TBLPROPERTIES as it does not propogate correctly\n",
    "DROP TABLE IF EXISTS dhurley_catalog.benchmarks.aeso_pool_prices;\n",
    "\n",
    "CREATE TABLE dhurley_catalog.benchmarks.aeso_pool_prices (\n",
    "  date STRING,\n",
    "  poolPrice STRING\n",
    ")\n",
    "USING delta\n",
    "TBLPROPERTIES (\n",
    "  'delta.checkpoint.writeStatsAsJson' = 'false',\n",
    "  'delta.checkpoint.writeStatsAsStruct' = 'true',\n",
    "  'delta.enableDeletionVectors' = 'false',\n",
    "  'delta.minReaderVersion' = '1',\n",
    "  'delta.minWriterVersion' = '2')"
   ]
  }
 ],
 "metadata": {
  "application/vnd.databricks.v1+notebook": {
   "computePreferences": null,
   "dashboards": [],
   "environmentMetadata": {
    "base_environment": "",
    "environment_version": "2"
   },
   "inputWidgetPreferences": null,
   "language": "python",
   "notebookMetadata": {
    "mostRecentlyExecutedCommandWithImplicitDF": {
     "commandId": 1144435745009768,
     "dataframes": [
      "_sqldf"
     ]
    },
    "pythonIndentUnit": 2
   },
   "notebookName": "setup",
   "widgets": {}
  },
  "language_info": {
   "name": "python"
  }
 },
 "nbformat": 4,
 "nbformat_minor": 0
}
