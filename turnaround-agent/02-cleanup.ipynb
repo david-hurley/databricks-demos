{
 "cells": [
  {
   "cell_type": "code",
   "execution_count": 0,
   "metadata": {
    "application/vnd.databricks.v1+cell": {
     "cellMetadata": {
      "byteLimit": 2048000,
      "rowLimit": 10000
     },
     "inputWidgets": {},
     "nuid": "d1e00cf2-cc6e-47a5-9112-2e224a21b980",
     "showTitle": false,
     "tableResultSettingsMap": {},
     "title": ""
    }
   },
   "outputs": [],
   "source": [
    "%pip install databricks-vectorsearch\n",
    "dbutils.library.restartPython()"
   ]
  },
  {
   "cell_type": "code",
   "execution_count": 0,
   "metadata": {
    "application/vnd.databricks.v1+cell": {
     "cellMetadata": {
      "byteLimit": 2048000,
      "rowLimit": 10000
     },
     "inputWidgets": {},
     "nuid": "2182cc93-b7be-464c-8d52-2b97edc68882",
     "showTitle": false,
     "tableResultSettingsMap": {},
     "title": ""
    }
   },
   "outputs": [],
   "source": [
    "from databricks.vector_search.client import VectorSearchClient"
   ]
  },
  {
   "cell_type": "markdown",
   "metadata": {
    "application/vnd.databricks.v1+cell": {
     "cellMetadata": {},
     "inputWidgets": {},
     "nuid": "4896add6-37ac-408f-80ee-9c7ac1bc3d95",
     "showTitle": false,
     "tableResultSettingsMap": {},
     "title": ""
    }
   },
   "source": [
    "### Replicate Names in `00-setup`"
   ]
  },
  {
   "cell_type": "code",
   "execution_count": 0,
   "metadata": {
    "application/vnd.databricks.v1+cell": {
     "cellMetadata": {
      "byteLimit": 2048000,
      "rowLimit": 10000
     },
     "inputWidgets": {},
     "nuid": "37ba62dd-95f1-4116-b6ba-05429ac9dc80",
     "showTitle": false,
     "tableResultSettingsMap": {},
     "title": ""
    }
   },
   "outputs": [],
   "source": [
    "# Update this to YOUR catalog and schema name\n",
    "catalog = \"users\"\n",
    "schema = \"david_hurley\"\n",
    "\n",
    "# Delta table names\n",
    "plant_equipment_relations_table_name = \"plant_equipment_relations\"\n",
    "sensor_temperature_table_name = \"sensor_temperature\"\n",
    "sensor_alarm_threshold_temperature_table_name = \"sensor_alarm_threshold_temperature\"\n",
    "inspection_report_table_name = \"turnaround_inspection_reports\"\n",
    "\n",
    "# UC function names\n",
    "plant_equipment_relationship_function_name = \"get_plant_equipment_relationship\"\n",
    "sensor_temperatures_function_name = \"get_sensor_temperatures\"\n",
    "sensor_alarm_threshold_temperature_function_name = \"get_sensor_alarm_threshold_temperature\"\n",
    "\n",
    "# Vector Search names\n",
    "vector_search_endpoint_name = \"turnaround_vector_search_endpoint\"\n",
    "vector_search_index_name = \"turnaround_inspection_reports_vs\""
   ]
  },
  {
   "cell_type": "markdown",
   "metadata": {
    "application/vnd.databricks.v1+cell": {
     "cellMetadata": {},
     "inputWidgets": {},
     "nuid": "ff80d82c-dd68-4e75-9ac5-b9c93d7deac6",
     "showTitle": false,
     "tableResultSettingsMap": {},
     "title": ""
    }
   },
   "source": [
    "### Delete Unity Catalog Tables"
   ]
  },
  {
   "cell_type": "code",
   "execution_count": 0,
   "metadata": {
    "application/vnd.databricks.v1+cell": {
     "cellMetadata": {
      "byteLimit": 2048000,
      "rowLimit": 10000
     },
     "inputWidgets": {},
     "nuid": "70b2cf16-e390-4230-94fc-387906a79027",
     "showTitle": false,
     "tableResultSettingsMap": {},
     "title": ""
    }
   },
   "outputs": [],
   "source": [
    "spark.sql(f\"DROP TABLE IF EXISTS {catalog}.{schema}.{plant_equipment_relations_table_name}\")\n",
    "\n",
    "spark.sql(f\"DROP TABLE IF EXISTS {catalog}.{schema}.{sensor_temperature_table_name}\")\n",
    "\n",
    "spark.sql(f\"DROP TABLE IF EXISTS {catalog}.{schema}.{sensor_alarm_threshold_temperature_table_name}\")\n",
    "\n",
    "spark.sql(f\"DROP TABLE IF EXISTS {catalog}.{schema}.{inspection_report_table_name}\")"
   ]
  },
  {
   "cell_type": "markdown",
   "metadata": {
    "application/vnd.databricks.v1+cell": {
     "cellMetadata": {},
     "inputWidgets": {},
     "nuid": "92a2ea5a-6489-430c-8554-4fa8417131b5",
     "showTitle": false,
     "tableResultSettingsMap": {},
     "title": ""
    }
   },
   "source": [
    "### Delete Unity Catalog Functions"
   ]
  },
  {
   "cell_type": "code",
   "execution_count": 0,
   "metadata": {
    "application/vnd.databricks.v1+cell": {
     "cellMetadata": {
      "byteLimit": 2048000,
      "rowLimit": 10000
     },
     "inputWidgets": {},
     "nuid": "ea7daced-ba03-4525-9ba0-f22b77a7238e",
     "showTitle": false,
     "tableResultSettingsMap": {},
     "title": ""
    }
   },
   "outputs": [],
   "source": [
    "spark.sql(f\"DROP FUNCTION IF EXISTS {catalog}.{schema}.{plant_equipment_relationship_function_name}\")\n",
    "\n",
    "spark.sql(f\"DROP FUNCTION IF EXISTS {catalog}.{schema}.{sensor_temperatures_function_name}\")\n",
    "\n",
    "spark.sql(f\"DROP FUNCTION IF EXISTS {catalog}.{schema}.{sensor_alarm_threshold_temperature_function_name}\")"
   ]
  },
  {
   "cell_type": "markdown",
   "metadata": {
    "application/vnd.databricks.v1+cell": {
     "cellMetadata": {},
     "inputWidgets": {},
     "nuid": "775f101a-091d-450f-89ff-086cbb52fd9b",
     "showTitle": false,
     "tableResultSettingsMap": {},
     "title": ""
    }
   },
   "source": [
    "### Delete Vector Search Endpoint and Index"
   ]
  },
  {
   "cell_type": "code",
   "execution_count": 0,
   "metadata": {
    "application/vnd.databricks.v1+cell": {
     "cellMetadata": {
      "byteLimit": 2048000,
      "rowLimit": 10000
     },
     "inputWidgets": {},
     "nuid": "5ec84cfb-5d74-4856-9b74-3072e78c49e1",
     "showTitle": false,
     "tableResultSettingsMap": {},
     "title": ""
    }
   },
   "outputs": [],
   "source": [
    "client = VectorSearchClient()\n",
    "\n",
    "try:\n",
    "  client.delete_index(index_name=f\"{catalog}.{schema}.{vector_search_index_name}\")\n",
    "except:\n",
    "  print(f\"Index {vector_search_index_name} could not be deleted\")"
   ]
  },
  {
   "cell_type": "code",
   "execution_count": 0,
   "metadata": {
    "application/vnd.databricks.v1+cell": {
     "cellMetadata": {
      "byteLimit": 2048000,
      "rowLimit": 10000
     },
     "inputWidgets": {},
     "nuid": "03504a0d-ebcb-4e24-8bfd-de4732b1ae3d",
     "showTitle": false,
     "tableResultSettingsMap": {},
     "title": ""
    }
   },
   "outputs": [],
   "source": [
    "try:\n",
    "  client.delete_endpoint(name=vector_search_endpoint_name)\n",
    "except:\n",
    "  print(f\"Endpoint {vector_search_endpoint_name} could not be deleted\")"
   ]
  }
 ],
 "metadata": {
  "application/vnd.databricks.v1+notebook": {
   "computePreferences": null,
   "dashboards": [],
   "environmentMetadata": {
    "base_environment": "",
    "environment_version": "2"
   },
   "inputWidgetPreferences": null,
   "language": "python",
   "notebookMetadata": {
    "pythonIndentUnit": 2
   },
   "notebookName": "02-cleanup",
   "widgets": {}
  },
  "language_info": {
   "name": "python"
  }
 },
 "nbformat": 4,
 "nbformat_minor": 0
}
