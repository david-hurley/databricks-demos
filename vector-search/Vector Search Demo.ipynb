{
 "cells": [
  {
   "cell_type": "code",
   "execution_count": 0,
   "metadata": {
    "application/vnd.databricks.v1+cell": {
     "cellMetadata": {
      "byteLimit": 2048000,
      "rowLimit": 10000
     },
     "inputWidgets": {},
     "nuid": "ff98c997-2909-4168-a36f-025968d2c5b5",
     "showTitle": false,
     "tableResultSettingsMap": {},
     "title": ""
    }
   },
   "outputs": [],
   "source": [
    "%pip install mistralai==1.8.1\n",
    "%pip install -qU langchain-text-splitters\n",
    "dbutils.library.restartPython()"
   ]
  },
  {
   "cell_type": "code",
   "execution_count": 0,
   "metadata": {
    "application/vnd.databricks.v1+cell": {
     "cellMetadata": {
      "byteLimit": 2048000,
      "rowLimit": 10000
     },
     "inputWidgets": {},
     "nuid": "5367fcd2-cc1d-45ef-92b2-c15a5b7066a2",
     "showTitle": false,
     "tableResultSettingsMap": {},
     "title": ""
    }
   },
   "outputs": [],
   "source": [
    "import json\n",
    "from pathlib import Path\n",
    "from mistralai import Mistral\n",
    "from IPython.display import Markdown, display\n",
    "from mistralai import DocumentURLChunk, ImageURLChunk, TextChunk\n",
    "from langchain_text_splitters import MarkdownHeaderTextSplitter\n",
    "from pyspark.sql.window import Window\n",
    "from pyspark.sql.functions import row_number, monotonically_increasing_id"
   ]
  },
  {
   "cell_type": "markdown",
   "metadata": {
    "application/vnd.databricks.v1+cell": {
     "cellMetadata": {},
     "inputWidgets": {},
     "nuid": "eb362162-e393-45b8-876a-0227e6a4b0ff",
     "showTitle": false,
     "tableResultSettingsMap": {},
     "title": ""
    }
   },
   "source": [
    "#Overview\n",
    "\n",
    "#### Steps\n",
    "1. Convert PDF to Markdown (OCR)\n",
    "2. Chunk Markdown by section headers and add metadata\n",
    "3. Save Markdown file and upsert chunked text and metadata to table\n",
    "4. Create Vector Search Endpoint and Index (via UI but can use code)\n",
    "![image](/Workspace/Users/david.hurley@databricks.com/vector-search/artifacts/vector-search-arch.png)"
   ]
  },
  {
   "cell_type": "markdown",
   "metadata": {
    "application/vnd.databricks.v1+cell": {
     "cellMetadata": {},
     "inputWidgets": {},
     "nuid": "ce8b5f9a-d94a-485c-83d2-bb8c7eea7a6c",
     "showTitle": false,
     "tableResultSettingsMap": {},
     "title": ""
    }
   },
   "source": [
    "___\n",
    "___\n",
    "# 1. PDF --> Markdown\n",
    "#### Potential OCR choices (many more beyond these):\n",
    "\n",
    "**Open-Source**\n",
    "- Docling\n",
    "- Marker\n",
    "- PyMuPDF4LLM\n",
    "\n",
    "**Paid**\n",
    "- Azure Document Intelligence\n",
    "- Mistral OCR\n",
    "- Gemini 2.0 Flash\n",
    "- Databricks `ai_parse()`\n",
    "\n",
    "---\n",
    "___"
   ]
  },
  {
   "cell_type": "markdown",
   "metadata": {
    "application/vnd.databricks.v1+cell": {
     "cellMetadata": {},
     "inputWidgets": {},
     "nuid": "24ce26e6-1b3f-46ab-a210-20628635dd3f",
     "showTitle": false,
     "tableResultSettingsMap": {},
     "title": ""
    }
   },
   "source": [
    "### Define Data"
   ]
  },
  {
   "cell_type": "code",
   "execution_count": 0,
   "metadata": {
    "application/vnd.databricks.v1+cell": {
     "cellMetadata": {
      "byteLimit": 2048000,
      "rowLimit": 10000
     },
     "inputWidgets": {},
     "nuid": "5432c107-a6bb-422b-84e7-5f95e3880a58",
     "showTitle": false,
     "tableResultSettingsMap": {},
     "title": ""
    }
   },
   "outputs": [],
   "source": [
    "# included in artifacts\n",
    "bronze_volume = \"/Volumes/users/david_hurley/vehicle_warranty/\"\n",
    "markdown_volume = \"/Volumes/users/david_hurley/vehicle_warranty_markdown/\"\n",
    "silver_table = \"users.david_hurley.vehicle_warranty_silver\"\n",
    "\n",
    "file_info = dbutils.fs.ls(bronze_volume)\n",
    "\n",
    "display(file_info)"
   ]
  },
  {
   "cell_type": "markdown",
   "metadata": {
    "application/vnd.databricks.v1+cell": {
     "cellMetadata": {},
     "inputWidgets": {},
     "nuid": "9604ca72-5227-4b00-95db-86bc81c59627",
     "showTitle": false,
     "tableResultSettingsMap": {},
     "title": ""
    }
   },
   "source": [
    "### Mistral OCR"
   ]
  },
  {
   "cell_type": "code",
   "execution_count": 0,
   "metadata": {
    "application/vnd.databricks.v1+cell": {
     "cellMetadata": {
      "byteLimit": 2048000,
      "rowLimit": 10000
     },
     "inputWidgets": {},
     "nuid": "1023b053-8999-43e5-9787-21d991538168",
     "showTitle": false,
     "tableResultSettingsMap": {},
     "title": ""
    }
   },
   "outputs": [],
   "source": [
    "# create secret in scope\n",
    "mistral_api_key = dbutils.secrets.get(scope = \"david-hurley-fe\", key = \"mistral-api-key\")\n",
    "client = Mistral(api_key=mistral_api_key)"
   ]
  },
  {
   "cell_type": "code",
   "execution_count": 0,
   "metadata": {
    "application/vnd.databricks.v1+cell": {
     "cellMetadata": {
      "byteLimit": 2048000,
      "rowLimit": 10000
     },
     "inputWidgets": {},
     "nuid": "449e76d3-60f3-41fd-aa9f-4ae6b391b8e9",
     "showTitle": false,
     "tableResultSettingsMap": {},
     "title": ""
    },
    "jupyter": {
     "outputs_hidden": true
    }
   },
   "outputs": [],
   "source": [
    "def ocr_pdf_mistral(file_path: list, file_name: str, client) -> dict:\n",
    "    \"\"\" Upload PDF to Mistral API and return json payload with Markdown \"\"\"\n",
    "    uploaded_file = client.files.upload(\n",
    "        file={\n",
    "            \"file_name\": file_name,\n",
    "            \"content\": Path(file_path.replace(\"dbfs:\", \"\")).read_bytes(),\n",
    "        },\n",
    "        purpose=\"ocr\",\n",
    "    )\n",
    "\n",
    "    signed_url = client.files.get_signed_url(file_id=uploaded_file.id, expiry=1)\n",
    "\n",
    "    pdf_response = client.ocr.process(\n",
    "        document=DocumentURLChunk(document_url=signed_url.url),\n",
    "        model=\"mistral-ocr-latest\",\n",
    "        include_image_base64=False\n",
    "    )\n",
    "\n",
    "    json_response = json.loads(pdf_response.model_dump_json())\n",
    "\n",
    "    # add vehicle model name\n",
    "    json_response[\"model\"] = file_name.replace(\".pdf\", \"\")\n",
    "\n",
    "    return json_response\n",
    "\n",
    "def combine_and_save_markdown(response: dict, file_name: str, volume: str):\n",
    "    \"\"\" Save Markdown to file to avoid rerun of Mistral API \"\"\"\n",
    "    markdowns = []\n",
    "    for page in response['pages']:\n",
    "        markdowns.append(page['markdown'])\n",
    "\n",
    "    output = \"\\n\\n\".join(markdowns)\n",
    "    with open(f\"{volume}/{file_name.replace('.pdf', '.md')}\", \"w\") as f:\n",
    "        f.write(output)\n",
    "\n",
    "def chunk_markdown(page, response):\n",
    "    \"\"\" Chunk each Markdown page by headers \"\"\"\n",
    "    markdown_document = page['markdown']\n",
    "\n",
    "    headers_to_split_on = [\n",
    "        (\"#\", \"Header 1\"),\n",
    "        (\"##\", \"Header 2\"),\n",
    "        (\"###\", \"Header 3\"),\n",
    "    ]\n",
    "\n",
    "    # Langchain utility\n",
    "    markdown_splitter = MarkdownHeaderTextSplitter(headers_to_split_on)\n",
    "    md_header_splits = markdown_splitter.split_text(markdown_document)\n",
    "\n",
    "    return [{\"page_number\": page['index'], \"model\": response['model'], \"chunked_markdown\": x.page_content} for x in md_header_splits]"
   ]
  },
  {
   "cell_type": "code",
   "execution_count": 0,
   "metadata": {
    "application/vnd.databricks.v1+cell": {
     "cellMetadata": {
      "byteLimit": 2048000,
      "rowLimit": 10000
     },
     "inputWidgets": {},
     "nuid": "de956dac-726f-49bf-a983-9c1b9ae342e2",
     "showTitle": false,
     "tableResultSettingsMap": {},
     "title": ""
    }
   },
   "outputs": [],
   "source": [
    "chunked_markdown_df = None\n",
    "\n",
    "# for each file convert to Markdown and for each page of Markdown chunk\n",
    "for file in file_info:\n",
    "\n",
    "  file_path = file[0]\n",
    "  file_name = file[1]\n",
    "\n",
    "  response = ocr_pdf_mistral(file_path=file_path, file_name=file_name, client=client)\n",
    "\n",
    "  combine_and_save_markdown(response=response, file_name=file_name, volume=markdown_volume)\n",
    "\n",
    "  chunked_markdown = []\n",
    "  for page in response['pages']:\n",
    "    chunked_markdown_flat = chunk_markdown(page, response)\n",
    "\n",
    "    temp_df = spark.createDataFrame(chunked_markdown_flat)\n",
    "\n",
    "    if chunked_markdown_df is None:\n",
    "      chunked_markdown_df = temp_df\n",
    "    else:\n",
    "      chunked_markdown_df = chunked_markdown_df.unionByName(temp_df)\n",
    "  \n",
    "# vector index needs a primary key so create one\n",
    "chunked_markdown_df = chunked_markdown_df.withColumn(\"id\", row_number().over(Window.orderBy(monotonically_increasing_id())))\n",
    "\n",
    "# save silver table to create vector search index\n",
    "chunked_markdown_df.write.mode(\"overwrite\").saveAsTable(silver_table)"
   ]
  },
  {
   "cell_type": "markdown",
   "metadata": {
    "application/vnd.databricks.v1+cell": {
     "cellMetadata": {},
     "inputWidgets": {},
     "nuid": "84b7560d-7020-44ec-96a8-ed12db8d68ba",
     "showTitle": false,
     "tableResultSettingsMap": {},
     "title": ""
    }
   },
   "source": [
    "### AI SQL Document Parsing OCR (Private Preview)"
   ]
  },
  {
   "cell_type": "code",
   "execution_count": 0,
   "metadata": {
    "application/vnd.databricks.v1+cell": {
     "cellMetadata": {
      "byteLimit": 2048000,
      "implicitDf": true,
      "rowLimit": 10000
     },
     "inputWidgets": {},
     "nuid": "4ff1f4c6-0b12-4185-b672-926a11d4919e",
     "showTitle": false,
     "tableResultSettingsMap": {},
     "title": ""
    }
   },
   "outputs": [],
   "source": [
    "%sql\n",
    "SELECT\n",
    "    path,\n",
    "    ai_parse(content) AS parsed\n",
    "FROM\n",
    "    READ_FILES('/Volumes/users/david_hurley/vehicle_warranty/*.pdf', format => 'binaryFile')"
   ]
  },
  {
   "cell_type": "code",
   "execution_count": 0,
   "metadata": {
    "application/vnd.databricks.v1+cell": {
     "cellMetadata": {
      "byteLimit": 2048000,
      "rowLimit": 10000
     },
     "inputWidgets": {},
     "nuid": "d8e9b28c-d85c-47de-a3e1-86841cc7a3ef",
     "showTitle": false,
     "tableResultSettingsMap": {},
     "title": ""
    }
   },
   "outputs": [],
   "source": [
    "from pyspark.sql.functions import col, expr\n",
    "\n",
    "df = spark.read.format(\"binaryFile\") \\\n",
    "  .load('/Volumes/users/david_hurley/vehicle_warranty/*.pdf') \\\n",
    "  .select(\n",
    "    col(\"path\"),\n",
    "    expr(\"ai_parse(content)\").alias(\"parsed\")) \\\n",
    "  .collect()\n"
   ]
  },
  {
   "cell_type": "code",
   "execution_count": 0,
   "metadata": {
    "application/vnd.databricks.v1+cell": {
     "cellMetadata": {},
     "inputWidgets": {},
     "nuid": "fee98408-ea13-4e57-b6d3-5aa97a29feab",
     "showTitle": false,
     "tableResultSettingsMap": {},
     "title": ""
    }
   },
   "outputs": [],
   "source": [
    "# parse columns out more than above\n",
    "%sql\n",
    "WITH corpus AS (\n",
    "  SELECT\n",
    "    path,\n",
    "    ai_parse(content) AS parsed\n",
    "  FROM\n",
    "    READ_FILES('/Volumes/users/david_hurley/vehicle_warranty/*.pdf', format => 'binaryFile')\n",
    ")\n",
    "SELECT\n",
    "  path,\n",
    "  parsed:document AS document,\n",
    "  parsed:pages AS pages,\n",
    "  parsed:elements AS elements,\n",
    "  parsed:_corrupted_data AS _corrupted_data\n",
    "FROM corpus;\n"
   ]
  }
 ],
 "metadata": {
  "application/vnd.databricks.v1+notebook": {
   "computePreferences": null,
   "dashboards": [],
   "environmentMetadata": {
    "base_environment": "",
    "environment_version": "2"
   },
   "inputWidgetPreferences": null,
   "language": "python",
   "notebookMetadata": {
    "mostRecentlyExecutedCommandWithImplicitDF": {
     "commandId": 3369811628464703,
     "dataframes": [
      "_sqldf"
     ]
    },
    "pythonIndentUnit": 2
   },
   "notebookName": "Vector Search Demo",
   "widgets": {}
  },
  "language_info": {
   "name": "python"
  }
 },
 "nbformat": 4,
 "nbformat_minor": 0
}
