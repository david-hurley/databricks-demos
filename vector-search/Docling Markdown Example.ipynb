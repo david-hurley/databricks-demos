{
 "cells": [
  {
   "cell_type": "markdown",
   "metadata": {
    "application/vnd.databricks.v1+cell": {
     "cellMetadata": {},
     "inputWidgets": {},
     "nuid": "7c204e9b-d349-4d12-a396-39987c9a170f",
     "showTitle": false,
     "tableResultSettingsMap": {},
     "title": ""
    }
   },
   "source": [
    "### Convert PDF to Markdown with Docling\n",
    "Use Docling open-source OCR library to convert PDF --> Markdown. Chunk each page of Markdown into sections using Langchain Markdown Header splitter. Lastly, save results to a Delta Table. "
   ]
  },
  {
   "cell_type": "code",
   "execution_count": 0,
   "metadata": {
    "application/vnd.databricks.v1+cell": {
     "cellMetadata": {
      "byteLimit": 2048000,
      "rowLimit": 10000
     },
     "inputWidgets": {},
     "nuid": "880cb609-eba9-4306-9fe4-6ea64ab207ca",
     "showTitle": false,
     "tableResultSettingsMap": {},
     "title": ""
    },
    "jupyter": {
     "outputs_hidden": true
    }
   },
   "outputs": [
    {
     "name": "stdout",
     "output_type": "stream",
     "text": [
      "Requirement already satisfied: docling in /local_disk0/.ephemeral_nfs/envs/pythonEnv-16a27e21-24c0-4d2e-a967-c0e2d396bf43/lib/python3.11/site-packages (2.36.1)\n",
      "Requirement already satisfied: pydantic<3.0.0,>=2.0.0 in /local_disk0/.ephemeral_nfs/envs/pythonEnv-16a27e21-24c0-4d2e-a967-c0e2d396bf43/lib/python3.11/site-packages (from docling) (2.11.6)\n",
      "Requirement already satisfied: docling-core<3.0.0,>=2.29.0 in /local_disk0/.ephemeral_nfs/envs/pythonEnv-16a27e21-24c0-4d2e-a967-c0e2d396bf43/lib/python3.11/site-packages (from docling-core[chunking]<3.0.0,>=2.29.0->docling) (2.37.0)\n",
      "Requirement already satisfied: docling-ibm-models<4.0.0,>=3.4.4 in /local_disk0/.ephemeral_nfs/envs/pythonEnv-16a27e21-24c0-4d2e-a967-c0e2d396bf43/lib/python3.11/site-packages (from docling) (3.4.4)\n",
      "Requirement already satisfied: docling-parse<5.0.0,>=4.0.0 in /local_disk0/.ephemeral_nfs/envs/pythonEnv-16a27e21-24c0-4d2e-a967-c0e2d396bf43/lib/python3.11/site-packages (from docling) (4.0.5)\n",
      "Requirement already satisfied: filetype<2.0.0,>=1.2.0 in /local_disk0/.ephemeral_nfs/envs/pythonEnv-16a27e21-24c0-4d2e-a967-c0e2d396bf43/lib/python3.11/site-packages (from docling) (1.2.0)\n",
      "Requirement already satisfied: pypdfium2<5.0.0,>=4.30.0 in /local_disk0/.ephemeral_nfs/envs/pythonEnv-16a27e21-24c0-4d2e-a967-c0e2d396bf43/lib/python3.11/site-packages (from docling) (4.30.1)\n",
      "Requirement already satisfied: pydantic-settings<3.0.0,>=2.3.0 in /local_disk0/.ephemeral_nfs/envs/pythonEnv-16a27e21-24c0-4d2e-a967-c0e2d396bf43/lib/python3.11/site-packages (from docling) (2.9.1)\n",
      "Requirement already satisfied: huggingface_hub<1,>=0.23 in /local_disk0/.ephemeral_nfs/envs/pythonEnv-16a27e21-24c0-4d2e-a967-c0e2d396bf43/lib/python3.11/site-packages (from docling) (0.33.0)\n",
      "Requirement already satisfied: requests<3.0.0,>=2.32.2 in /local_disk0/.ephemeral_nfs/envs/pythonEnv-16a27e21-24c0-4d2e-a967-c0e2d396bf43/lib/python3.11/site-packages (from docling) (2.32.4)\n",
      "Requirement already satisfied: easyocr<2.0,>=1.7 in /local_disk0/.ephemeral_nfs/envs/pythonEnv-16a27e21-24c0-4d2e-a967-c0e2d396bf43/lib/python3.11/site-packages (from docling) (1.7.2)\n",
      "Requirement already satisfied: certifi>=2024.7.4 in /local_disk0/.ephemeral_nfs/envs/pythonEnv-16a27e21-24c0-4d2e-a967-c0e2d396bf43/lib/python3.11/site-packages (from docling) (2025.4.26)\n",
      "Requirement already satisfied: rtree<2.0.0,>=1.3.0 in /local_disk0/.ephemeral_nfs/envs/pythonEnv-16a27e21-24c0-4d2e-a967-c0e2d396bf43/lib/python3.11/site-packages (from docling) (1.4.0)\n",
      "Requirement already satisfied: typer<0.17.0,>=0.12.5 in /local_disk0/.ephemeral_nfs/envs/pythonEnv-16a27e21-24c0-4d2e-a967-c0e2d396bf43/lib/python3.11/site-packages (from docling) (0.16.0)\n",
      "Requirement already satisfied: python-docx<2.0.0,>=1.1.2 in /local_disk0/.ephemeral_nfs/envs/pythonEnv-16a27e21-24c0-4d2e-a967-c0e2d396bf43/lib/python3.11/site-packages (from docling) (1.1.2)\n",
      "Requirement already satisfied: python-pptx<2.0.0,>=1.0.2 in /local_disk0/.ephemeral_nfs/envs/pythonEnv-16a27e21-24c0-4d2e-a967-c0e2d396bf43/lib/python3.11/site-packages (from docling) (1.0.2)\n",
      "Requirement already satisfied: beautifulsoup4<5.0.0,>=4.12.3 in /local_disk0/.ephemeral_nfs/envs/pythonEnv-16a27e21-24c0-4d2e-a967-c0e2d396bf43/lib/python3.11/site-packages (from docling) (4.13.4)\n",
      "Requirement already satisfied: pandas<3.0.0,>=2.1.4 in /local_disk0/.ephemeral_nfs/envs/pythonEnv-16a27e21-24c0-4d2e-a967-c0e2d396bf43/lib/python3.11/site-packages (from docling) (2.3.0)\n",
      "Requirement already satisfied: marko<3.0.0,>=2.1.2 in /local_disk0/.ephemeral_nfs/envs/pythonEnv-16a27e21-24c0-4d2e-a967-c0e2d396bf43/lib/python3.11/site-packages (from docling) (2.1.4)\n",
      "Requirement already satisfied: openpyxl<4.0.0,>=3.1.5 in /local_disk0/.ephemeral_nfs/envs/pythonEnv-16a27e21-24c0-4d2e-a967-c0e2d396bf43/lib/python3.11/site-packages (from docling) (3.1.5)\n",
      "Requirement already satisfied: lxml<6.0.0,>=4.0.0 in /local_disk0/.ephemeral_nfs/envs/pythonEnv-16a27e21-24c0-4d2e-a967-c0e2d396bf43/lib/python3.11/site-packages (from docling) (5.4.0)\n",
      "Requirement already satisfied: pillow<12.0.0,>=10.0.0 in /databricks/python3/lib/python3.11/site-packages (from docling) (10.3.0)\n",
      "Requirement already satisfied: tqdm<5.0.0,>=4.65.0 in /local_disk0/.ephemeral_nfs/envs/pythonEnv-16a27e21-24c0-4d2e-a967-c0e2d396bf43/lib/python3.11/site-packages (from docling) (4.67.1)\n",
      "Requirement already satisfied: pluggy<2.0.0,>=1.0.0 in /local_disk0/.ephemeral_nfs/envs/pythonEnv-16a27e21-24c0-4d2e-a967-c0e2d396bf43/lib/python3.11/site-packages (from docling) (1.6.0)\n",
      "Requirement already satisfied: pylatexenc<3.0,>=2.10 in /local_disk0/.ephemeral_nfs/envs/pythonEnv-16a27e21-24c0-4d2e-a967-c0e2d396bf43/lib/python3.11/site-packages (from docling) (2.10)\n",
      "Requirement already satisfied: scipy<2.0.0,>=1.6.0 in /local_disk0/.ephemeral_nfs/envs/pythonEnv-16a27e21-24c0-4d2e-a967-c0e2d396bf43/lib/python3.11/site-packages (from docling) (1.15.3)\n",
      "Requirement already satisfied: soupsieve>1.2 in /local_disk0/.ephemeral_nfs/envs/pythonEnv-16a27e21-24c0-4d2e-a967-c0e2d396bf43/lib/python3.11/site-packages (from beautifulsoup4<5.0.0,>=4.12.3->docling) (2.7)\n",
      "Requirement already satisfied: typing-extensions>=4.0.0 in /local_disk0/.ephemeral_nfs/envs/pythonEnv-16a27e21-24c0-4d2e-a967-c0e2d396bf43/lib/python3.11/site-packages (from beautifulsoup4<5.0.0,>=4.12.3->docling) (4.14.0)\n",
      "Requirement already satisfied: jsonschema<5.0.0,>=4.16.0 in /local_disk0/.ephemeral_nfs/envs/pythonEnv-16a27e21-24c0-4d2e-a967-c0e2d396bf43/lib/python3.11/site-packages (from docling-core<3.0.0,>=2.29.0->docling-core[chunking]<3.0.0,>=2.29.0->docling) (4.24.0)\n",
      "Requirement already satisfied: jsonref<2.0.0,>=1.1.0 in /local_disk0/.ephemeral_nfs/envs/pythonEnv-16a27e21-24c0-4d2e-a967-c0e2d396bf43/lib/python3.11/site-packages (from docling-core<3.0.0,>=2.29.0->docling-core[chunking]<3.0.0,>=2.29.0->docling) (1.1.0)\n",
      "Requirement already satisfied: tabulate<0.10.0,>=0.9.0 in /local_disk0/.ephemeral_nfs/envs/pythonEnv-16a27e21-24c0-4d2e-a967-c0e2d396bf43/lib/python3.11/site-packages (from docling-core<3.0.0,>=2.29.0->docling-core[chunking]<3.0.0,>=2.29.0->docling) (0.9.0)\n",
      "Requirement already satisfied: pyyaml<7.0.0,>=5.1 in /databricks/python3/lib/python3.11/site-packages (from docling-core<3.0.0,>=2.29.0->docling-core[chunking]<3.0.0,>=2.29.0->docling) (6.0)\n",
      "Requirement already satisfied: latex2mathml<4.0.0,>=3.77.0 in /local_disk0/.ephemeral_nfs/envs/pythonEnv-16a27e21-24c0-4d2e-a967-c0e2d396bf43/lib/python3.11/site-packages (from docling-core<3.0.0,>=2.29.0->docling-core[chunking]<3.0.0,>=2.29.0->docling) (3.78.0)\n",
      "Requirement already satisfied: semchunk<3.0.0,>=2.2.0 in /local_disk0/.ephemeral_nfs/envs/pythonEnv-16a27e21-24c0-4d2e-a967-c0e2d396bf43/lib/python3.11/site-packages (from docling-core[chunking]<3.0.0,>=2.29.0->docling) (2.2.2)\n",
      "Requirement already satisfied: transformers<5.0.0,>=4.34.0 in /local_disk0/.ephemeral_nfs/envs/pythonEnv-16a27e21-24c0-4d2e-a967-c0e2d396bf43/lib/python3.11/site-packages (from docling-core[chunking]<3.0.0,>=2.29.0->docling) (4.52.4)\n",
      "Requirement already satisfied: torch<3.0.0,>=2.2.2 in /local_disk0/.ephemeral_nfs/envs/pythonEnv-16a27e21-24c0-4d2e-a967-c0e2d396bf43/lib/python3.11/site-packages (from docling-ibm-models<4.0.0,>=3.4.4->docling) (2.7.1)\n",
      "Requirement already satisfied: torchvision<1,>=0 in /local_disk0/.ephemeral_nfs/envs/pythonEnv-16a27e21-24c0-4d2e-a967-c0e2d396bf43/lib/python3.11/site-packages (from docling-ibm-models<4.0.0,>=3.4.4->docling) (0.22.1)\n",
      "Requirement already satisfied: jsonlines<4.0.0,>=3.1.0 in /local_disk0/.ephemeral_nfs/envs/pythonEnv-16a27e21-24c0-4d2e-a967-c0e2d396bf43/lib/python3.11/site-packages (from docling-ibm-models<4.0.0,>=3.4.4->docling) (3.1.0)\n",
      "Requirement already satisfied: opencv-python-headless<5.0.0.0,>=4.6.0.66 in /local_disk0/.ephemeral_nfs/envs/pythonEnv-16a27e21-24c0-4d2e-a967-c0e2d396bf43/lib/python3.11/site-packages (from docling-ibm-models<4.0.0,>=3.4.4->docling) (4.11.0.86)\n",
      "Requirement already satisfied: safetensors<1,>=0.4.3 in /local_disk0/.ephemeral_nfs/envs/pythonEnv-16a27e21-24c0-4d2e-a967-c0e2d396bf43/lib/python3.11/site-packages (from safetensors[torch]<1,>=0.4.3->docling-ibm-models<4.0.0,>=3.4.4->docling) (0.5.3)\n",
      "Requirement already satisfied: numpy<3.0.0,>=1.24.4 in /local_disk0/.ephemeral_nfs/envs/pythonEnv-16a27e21-24c0-4d2e-a967-c0e2d396bf43/lib/python3.11/site-packages (from docling-ibm-models<4.0.0,>=3.4.4->docling) (1.26.4)\n",
      "Requirement already satisfied: scikit-image in /local_disk0/.ephemeral_nfs/envs/pythonEnv-16a27e21-24c0-4d2e-a967-c0e2d396bf43/lib/python3.11/site-packages (from easyocr<2.0,>=1.7->docling) (0.25.2)\n",
      "Requirement already satisfied: python-bidi in /local_disk0/.ephemeral_nfs/envs/pythonEnv-16a27e21-24c0-4d2e-a967-c0e2d396bf43/lib/python3.11/site-packages (from easyocr<2.0,>=1.7->docling) (0.6.6)\n",
      "Requirement already satisfied: Shapely in /local_disk0/.ephemeral_nfs/envs/pythonEnv-16a27e21-24c0-4d2e-a967-c0e2d396bf43/lib/python3.11/site-packages (from easyocr<2.0,>=1.7->docling) (2.1.1)\n",
      "Requirement already satisfied: pyclipper in /local_disk0/.ephemeral_nfs/envs/pythonEnv-16a27e21-24c0-4d2e-a967-c0e2d396bf43/lib/python3.11/site-packages (from easyocr<2.0,>=1.7->docling) (1.3.0.post6)\n",
      "Requirement already satisfied: ninja in /local_disk0/.ephemeral_nfs/envs/pythonEnv-16a27e21-24c0-4d2e-a967-c0e2d396bf43/lib/python3.11/site-packages (from easyocr<2.0,>=1.7->docling) (1.11.1.4)\n",
      "Requirement already satisfied: filelock in /databricks/python3/lib/python3.11/site-packages (from huggingface_hub<1,>=0.23->docling) (3.13.4)\n",
      "Requirement already satisfied: fsspec>=2023.5.0 in /local_disk0/.ephemeral_nfs/envs/pythonEnv-16a27e21-24c0-4d2e-a967-c0e2d396bf43/lib/python3.11/site-packages (from huggingface_hub<1,>=0.23->docling) (2025.5.1)\n",
      "Requirement already satisfied: packaging>=20.9 in /databricks/python3/lib/python3.11/site-packages (from huggingface_hub<1,>=0.23->docling) (23.2)\n",
      "Requirement already satisfied: hf-xet<2.0.0,>=1.1.2 in /local_disk0/.ephemeral_nfs/envs/pythonEnv-16a27e21-24c0-4d2e-a967-c0e2d396bf43/lib/python3.11/site-packages (from huggingface_hub<1,>=0.23->docling) (1.1.3)\n",
      "Requirement already satisfied: et-xmlfile in /local_disk0/.ephemeral_nfs/envs/pythonEnv-16a27e21-24c0-4d2e-a967-c0e2d396bf43/lib/python3.11/site-packages (from openpyxl<4.0.0,>=3.1.5->docling) (2.0.0)\n",
      "Requirement already satisfied: python-dateutil>=2.8.2 in /databricks/python3/lib/python3.11/site-packages (from pandas<3.0.0,>=2.1.4->docling) (2.8.2)\n",
      "Requirement already satisfied: pytz>=2020.1 in /databricks/python3/lib/python3.11/site-packages (from pandas<3.0.0,>=2.1.4->docling) (2022.7)\n",
      "Requirement already satisfied: tzdata>=2022.7 in /local_disk0/.ephemeral_nfs/envs/pythonEnv-16a27e21-24c0-4d2e-a967-c0e2d396bf43/lib/python3.11/site-packages (from pandas<3.0.0,>=2.1.4->docling) (2025.2)\n",
      "Requirement already satisfied: annotated-types>=0.6.0 in /local_disk0/.ephemeral_nfs/envs/pythonEnv-16a27e21-24c0-4d2e-a967-c0e2d396bf43/lib/python3.11/site-packages (from pydantic<3.0.0,>=2.0.0->docling) (0.7.0)\n",
      "Requirement already satisfied: pydantic-core==2.33.2 in /local_disk0/.ephemeral_nfs/envs/pythonEnv-16a27e21-24c0-4d2e-a967-c0e2d396bf43/lib/python3.11/site-packages (from pydantic<3.0.0,>=2.0.0->docling) (2.33.2)\n",
      "Requirement already satisfied: typing-inspection>=0.4.0 in /local_disk0/.ephemeral_nfs/envs/pythonEnv-16a27e21-24c0-4d2e-a967-c0e2d396bf43/lib/python3.11/site-packages (from pydantic<3.0.0,>=2.0.0->docling) (0.4.1)\n",
      "Requirement already satisfied: python-dotenv>=0.21.0 in /local_disk0/.ephemeral_nfs/envs/pythonEnv-16a27e21-24c0-4d2e-a967-c0e2d396bf43/lib/python3.11/site-packages (from pydantic-settings<3.0.0,>=2.3.0->docling) (1.1.0)\n",
      "Requirement already satisfied: XlsxWriter>=0.5.7 in /local_disk0/.ephemeral_nfs/envs/pythonEnv-16a27e21-24c0-4d2e-a967-c0e2d396bf43/lib/python3.11/site-packages (from python-pptx<2.0.0,>=1.0.2->docling) (3.2.3)\n",
      "Requirement already satisfied: charset_normalizer<4,>=2 in /databricks/python3/lib/python3.11/site-packages (from requests<3.0.0,>=2.32.2->docling) (2.0.4)\n",
      "Requirement already satisfied: idna<4,>=2.5 in /databricks/python3/lib/python3.11/site-packages (from requests<3.0.0,>=2.32.2->docling) (3.4)\n",
      "Requirement already satisfied: urllib3<3,>=1.21.1 in /databricks/python3/lib/python3.11/site-packages (from requests<3.0.0,>=2.32.2->docling) (1.26.16)\n",
      "Requirement already satisfied: click>=8.0.0 in /databricks/python3/lib/python3.11/site-packages (from typer<0.17.0,>=0.12.5->docling) (8.0.4)\n",
      "Requirement already satisfied: shellingham>=1.3.0 in /local_disk0/.ephemeral_nfs/envs/pythonEnv-16a27e21-24c0-4d2e-a967-c0e2d396bf43/lib/python3.11/site-packages (from typer<0.17.0,>=0.12.5->docling) (1.5.4)\n",
      "Requirement already satisfied: rich>=10.11.0 in /local_disk0/.ephemeral_nfs/envs/pythonEnv-16a27e21-24c0-4d2e-a967-c0e2d396bf43/lib/python3.11/site-packages (from typer<0.17.0,>=0.12.5->docling) (14.0.0)\n",
      "Requirement already satisfied: attrs>=19.2.0 in /local_disk0/.ephemeral_nfs/envs/pythonEnv-16a27e21-24c0-4d2e-a967-c0e2d396bf43/lib/python3.11/site-packages (from jsonlines<4.0.0,>=3.1.0->docling-ibm-models<4.0.0,>=3.4.4->docling) (25.3.0)\n",
      "Requirement already satisfied: jsonschema-specifications>=2023.03.6 in /local_disk0/.ephemeral_nfs/envs/pythonEnv-16a27e21-24c0-4d2e-a967-c0e2d396bf43/lib/python3.11/site-packages (from jsonschema<5.0.0,>=4.16.0->docling-core<3.0.0,>=2.29.0->docling-core[chunking]<3.0.0,>=2.29.0->docling) (2025.4.1)\n",
      "Requirement already satisfied: referencing>=0.28.4 in /local_disk0/.ephemeral_nfs/envs/pythonEnv-16a27e21-24c0-4d2e-a967-c0e2d396bf43/lib/python3.11/site-packages (from jsonschema<5.0.0,>=4.16.0->docling-core<3.0.0,>=2.29.0->docling-core[chunking]<3.0.0,>=2.29.0->docling) (0.36.2)\n",
      "Requirement already satisfied: rpds-py>=0.7.1 in /local_disk0/.ephemeral_nfs/envs/pythonEnv-16a27e21-24c0-4d2e-a967-c0e2d396bf43/lib/python3.11/site-packages (from jsonschema<5.0.0,>=4.16.0->docling-core<3.0.0,>=2.29.0->docling-core[chunking]<3.0.0,>=2.29.0->docling) (0.25.1)\n",
      "Requirement already satisfied: six>=1.5 in /usr/lib/python3/dist-packages (from python-dateutil>=2.8.2->pandas<3.0.0,>=2.1.4->docling) (1.16.0)\n",
      "Requirement already satisfied: markdown-it-py>=2.2.0 in /local_disk0/.ephemeral_nfs/envs/pythonEnv-16a27e21-24c0-4d2e-a967-c0e2d396bf43/lib/python3.11/site-packages (from rich>=10.11.0->typer<0.17.0,>=0.12.5->docling) (3.0.0)\n",
      "Requirement already satisfied: pygments<3.0.0,>=2.13.0 in /databricks/python3/lib/python3.11/site-packages (from rich>=10.11.0->typer<0.17.0,>=0.12.5->docling) (2.15.1)\n",
      "Requirement already satisfied: mpire[dill] in /local_disk0/.ephemeral_nfs/envs/pythonEnv-16a27e21-24c0-4d2e-a967-c0e2d396bf43/lib/python3.11/site-packages (from semchunk<3.0.0,>=2.2.0->docling-core[chunking]<3.0.0,>=2.29.0->docling) (2.10.2)\n",
      "Requirement already satisfied: sympy>=1.13.3 in /local_disk0/.ephemeral_nfs/envs/pythonEnv-16a27e21-24c0-4d2e-a967-c0e2d396bf43/lib/python3.11/site-packages (from torch<3.0.0,>=2.2.2->docling-ibm-models<4.0.0,>=3.4.4->docling) (1.14.0)\n",
      "Requirement already satisfied: networkx in /local_disk0/.ephemeral_nfs/envs/pythonEnv-16a27e21-24c0-4d2e-a967-c0e2d396bf43/lib/python3.11/site-packages (from torch<3.0.0,>=2.2.2->docling-ibm-models<4.0.0,>=3.4.4->docling) (3.5)\n",
      "Requirement already satisfied: jinja2 in /local_disk0/.ephemeral_nfs/envs/pythonEnv-16a27e21-24c0-4d2e-a967-c0e2d396bf43/lib/python3.11/site-packages (from torch<3.0.0,>=2.2.2->docling-ibm-models<4.0.0,>=3.4.4->docling) (3.1.6)\n",
      "Requirement already satisfied: nvidia-cuda-nvrtc-cu12==12.6.77 in /local_disk0/.ephemeral_nfs/envs/pythonEnv-16a27e21-24c0-4d2e-a967-c0e2d396bf43/lib/python3.11/site-packages (from torch<3.0.0,>=2.2.2->docling-ibm-models<4.0.0,>=3.4.4->docling) (12.6.77)\n",
      "Requirement already satisfied: nvidia-cuda-runtime-cu12==12.6.77 in /local_disk0/.ephemeral_nfs/envs/pythonEnv-16a27e21-24c0-4d2e-a967-c0e2d396bf43/lib/python3.11/site-packages (from torch<3.0.0,>=2.2.2->docling-ibm-models<4.0.0,>=3.4.4->docling) (12.6.77)\n",
      "Requirement already satisfied: nvidia-cuda-cupti-cu12==12.6.80 in /local_disk0/.ephemeral_nfs/envs/pythonEnv-16a27e21-24c0-4d2e-a967-c0e2d396bf43/lib/python3.11/site-packages (from torch<3.0.0,>=2.2.2->docling-ibm-models<4.0.0,>=3.4.4->docling) (12.6.80)\n",
      "Requirement already satisfied: nvidia-cudnn-cu12==9.5.1.17 in /local_disk0/.ephemeral_nfs/envs/pythonEnv-16a27e21-24c0-4d2e-a967-c0e2d396bf43/lib/python3.11/site-packages (from torch<3.0.0,>=2.2.2->docling-ibm-models<4.0.0,>=3.4.4->docling) (9.5.1.17)\n",
      "Requirement already satisfied: nvidia-cublas-cu12==12.6.4.1 in /local_disk0/.ephemeral_nfs/envs/pythonEnv-16a27e21-24c0-4d2e-a967-c0e2d396bf43/lib/python3.11/site-packages (from torch<3.0.0,>=2.2.2->docling-ibm-models<4.0.0,>=3.4.4->docling) (12.6.4.1)\n",
      "Requirement already satisfied: nvidia-cufft-cu12==11.3.0.4 in /local_disk0/.ephemeral_nfs/envs/pythonEnv-16a27e21-24c0-4d2e-a967-c0e2d396bf43/lib/python3.11/site-packages (from torch<3.0.0,>=2.2.2->docling-ibm-models<4.0.0,>=3.4.4->docling) (11.3.0.4)\n",
      "Requirement already satisfied: nvidia-curand-cu12==10.3.7.77 in /local_disk0/.ephemeral_nfs/envs/pythonEnv-16a27e21-24c0-4d2e-a967-c0e2d396bf43/lib/python3.11/site-packages (from torch<3.0.0,>=2.2.2->docling-ibm-models<4.0.0,>=3.4.4->docling) (10.3.7.77)\n",
      "Requirement already satisfied: nvidia-cusolver-cu12==11.7.1.2 in /local_disk0/.ephemeral_nfs/envs/pythonEnv-16a27e21-24c0-4d2e-a967-c0e2d396bf43/lib/python3.11/site-packages (from torch<3.0.0,>=2.2.2->docling-ibm-models<4.0.0,>=3.4.4->docling) (11.7.1.2)\n",
      "Requirement already satisfied: nvidia-cusparse-cu12==12.5.4.2 in /local_disk0/.ephemeral_nfs/envs/pythonEnv-16a27e21-24c0-4d2e-a967-c0e2d396bf43/lib/python3.11/site-packages (from torch<3.0.0,>=2.2.2->docling-ibm-models<4.0.0,>=3.4.4->docling) (12.5.4.2)\n",
      "Requirement already satisfied: nvidia-cusparselt-cu12==0.6.3 in /local_disk0/.ephemeral_nfs/envs/pythonEnv-16a27e21-24c0-4d2e-a967-c0e2d396bf43/lib/python3.11/site-packages (from torch<3.0.0,>=2.2.2->docling-ibm-models<4.0.0,>=3.4.4->docling) (0.6.3)\n",
      "Requirement already satisfied: nvidia-nccl-cu12==2.26.2 in /local_disk0/.ephemeral_nfs/envs/pythonEnv-16a27e21-24c0-4d2e-a967-c0e2d396bf43/lib/python3.11/site-packages (from torch<3.0.0,>=2.2.2->docling-ibm-models<4.0.0,>=3.4.4->docling) (2.26.2)\n",
      "Requirement already satisfied: nvidia-nvtx-cu12==12.6.77 in /local_disk0/.ephemeral_nfs/envs/pythonEnv-16a27e21-24c0-4d2e-a967-c0e2d396bf43/lib/python3.11/site-packages (from torch<3.0.0,>=2.2.2->docling-ibm-models<4.0.0,>=3.4.4->docling) (12.6.77)\n",
      "Requirement already satisfied: nvidia-nvjitlink-cu12==12.6.85 in /local_disk0/.ephemeral_nfs/envs/pythonEnv-16a27e21-24c0-4d2e-a967-c0e2d396bf43/lib/python3.11/site-packages (from torch<3.0.0,>=2.2.2->docling-ibm-models<4.0.0,>=3.4.4->docling) (12.6.85)\n",
      "Requirement already satisfied: nvidia-cufile-cu12==1.11.1.6 in /local_disk0/.ephemeral_nfs/envs/pythonEnv-16a27e21-24c0-4d2e-a967-c0e2d396bf43/lib/python3.11/site-packages (from torch<3.0.0,>=2.2.2->docling-ibm-models<4.0.0,>=3.4.4->docling) (1.11.1.6)\n",
      "Requirement already satisfied: triton==3.3.1 in /local_disk0/.ephemeral_nfs/envs/pythonEnv-16a27e21-24c0-4d2e-a967-c0e2d396bf43/lib/python3.11/site-packages (from torch<3.0.0,>=2.2.2->docling-ibm-models<4.0.0,>=3.4.4->docling) (3.3.1)\n",
      "Requirement already satisfied: setuptools>=40.8.0 in /databricks/python3/lib/python3.11/site-packages (from triton==3.3.1->torch<3.0.0,>=2.2.2->docling-ibm-models<4.0.0,>=3.4.4->docling) (75.1.0)\n",
      "Requirement already satisfied: regex!=2019.12.17 in /local_disk0/.ephemeral_nfs/envs/pythonEnv-16a27e21-24c0-4d2e-a967-c0e2d396bf43/lib/python3.11/site-packages (from transformers<5.0.0,>=4.34.0->docling-core[chunking]<3.0.0,>=2.29.0->docling) (2024.11.6)\n",
      "Requirement already satisfied: tokenizers<0.22,>=0.21 in /local_disk0/.ephemeral_nfs/envs/pythonEnv-16a27e21-24c0-4d2e-a967-c0e2d396bf43/lib/python3.11/site-packages (from transformers<5.0.0,>=4.34.0->docling-core[chunking]<3.0.0,>=2.29.0->docling) (0.21.1)\n",
      "Requirement already satisfied: imageio!=2.35.0,>=2.33 in /local_disk0/.ephemeral_nfs/envs/pythonEnv-16a27e21-24c0-4d2e-a967-c0e2d396bf43/lib/python3.11/site-packages (from scikit-image->easyocr<2.0,>=1.7->docling) (2.37.0)\n",
      "Requirement already satisfied: tifffile>=2022.8.12 in /local_disk0/.ephemeral_nfs/envs/pythonEnv-16a27e21-24c0-4d2e-a967-c0e2d396bf43/lib/python3.11/site-packages (from scikit-image->easyocr<2.0,>=1.7->docling) (2025.6.11)\n",
      "Requirement already satisfied: lazy-loader>=0.4 in /local_disk0/.ephemeral_nfs/envs/pythonEnv-16a27e21-24c0-4d2e-a967-c0e2d396bf43/lib/python3.11/site-packages (from scikit-image->easyocr<2.0,>=1.7->docling) (0.4)\n",
      "Requirement already satisfied: mdurl~=0.1 in /local_disk0/.ephemeral_nfs/envs/pythonEnv-16a27e21-24c0-4d2e-a967-c0e2d396bf43/lib/python3.11/site-packages (from markdown-it-py>=2.2.0->rich>=10.11.0->typer<0.17.0,>=0.12.5->docling) (0.1.2)\n",
      "Requirement already satisfied: mpmath<1.4,>=1.1.0 in /local_disk0/.ephemeral_nfs/envs/pythonEnv-16a27e21-24c0-4d2e-a967-c0e2d396bf43/lib/python3.11/site-packages (from sympy>=1.13.3->torch<3.0.0,>=2.2.2->docling-ibm-models<4.0.0,>=3.4.4->docling) (1.3.0)\n",
      "Requirement already satisfied: MarkupSafe>=2.0 in /local_disk0/.ephemeral_nfs/envs/pythonEnv-16a27e21-24c0-4d2e-a967-c0e2d396bf43/lib/python3.11/site-packages (from jinja2->torch<3.0.0,>=2.2.2->docling-ibm-models<4.0.0,>=3.4.4->docling) (3.0.2)\n",
      "Requirement already satisfied: multiprocess>=0.70.15 in /local_disk0/.ephemeral_nfs/envs/pythonEnv-16a27e21-24c0-4d2e-a967-c0e2d396bf43/lib/python3.11/site-packages (from mpire[dill]->semchunk<3.0.0,>=2.2.0->docling-core[chunking]<3.0.0,>=2.29.0->docling) (0.70.18)\n",
      "Requirement already satisfied: dill>=0.4.0 in /local_disk0/.ephemeral_nfs/envs/pythonEnv-16a27e21-24c0-4d2e-a967-c0e2d396bf43/lib/python3.11/site-packages (from multiprocess>=0.70.15->mpire[dill]->semchunk<3.0.0,>=2.2.0->docling-core[chunking]<3.0.0,>=2.29.0->docling) (0.4.0)\n",
      "\u001b[43mNote: you may need to restart the kernel using %restart_python or dbutils.library.restartPython() to use updated packages.\u001b[0m\n",
      "\u001b[43mNote: you may need to restart the kernel using %restart_python or dbutils.library.restartPython() to use updated packages.\u001b[0m\n"
     ]
    }
   ],
   "source": [
    "%pip install docling\n",
    "%pip install -qU langchain-text-splitters\n",
    "dbutils.library.restartPython()"
   ]
  },
  {
   "cell_type": "code",
   "execution_count": 0,
   "metadata": {
    "application/vnd.databricks.v1+cell": {
     "cellMetadata": {
      "byteLimit": 2048000,
      "rowLimit": 10000
     },
     "inputWidgets": {},
     "nuid": "b3a0773a-37fc-4f1c-abd4-968aed565ce0",
     "showTitle": false,
     "tableResultSettingsMap": {},
     "title": ""
    },
    "jupyter": {
     "outputs_hidden": true
    }
   },
   "outputs": [],
   "source": [
    "from docling.document_converter import DocumentConverter\n",
    "from langchain_text_splitters import MarkdownHeaderTextSplitter\n",
    "from pyspark.sql.functions import monotonically_increasing_id"
   ]
  },
  {
   "cell_type": "code",
   "execution_count": 0,
   "metadata": {
    "application/vnd.databricks.v1+cell": {
     "cellMetadata": {
      "byteLimit": 2048000,
      "rowLimit": 10000
     },
     "inputWidgets": {},
     "nuid": "0673896e-19fb-45dd-8040-2aa91a9a30ee",
     "showTitle": false,
     "tableResultSettingsMap": {},
     "title": ""
    }
   },
   "outputs": [
    {
     "name": "stdout",
     "output_type": "stream",
     "text": [
      "['/Volumes/users/david_hurley/vehicle_warranty/Ford.pdf', '/Volumes/users/david_hurley/vehicle_warranty/Mercedes.pdf', '/Volumes/users/david_hurley/vehicle_warranty/Toyota.pdf']\n"
     ]
    }
   ],
   "source": [
    "# Change the Volume path to directory your PDFs are stored\n",
    "bronze_volume = \"/Volumes/users/david_hurley/vehicle_warranty/\"\n",
    "\n",
    "# Get all PDF file paths and remove dbfs prefix\n",
    "file_paths = [file[0].replace(\"dbfs:\", \"\") for file in dbutils.fs.ls(bronze_volume)]\n",
    "print(file_paths)"
   ]
  },
  {
   "cell_type": "code",
   "execution_count": 0,
   "metadata": {
    "application/vnd.databricks.v1+cell": {
     "cellMetadata": {
      "byteLimit": 2048000,
      "rowLimit": 10000
     },
     "inputWidgets": {},
     "nuid": "f80f61e0-5c0f-43b9-937d-0a327bbf314c",
     "showTitle": false,
     "tableResultSettingsMap": {},
     "title": ""
    },
    "jupyter": {
     "outputs_hidden": true
    }
   },
   "outputs": [
    {
     "name": "stderr",
     "output_type": "stream",
     "text": [
      "Downloading detection model, please wait. This may take several minutes depending upon your network connection.\n",
      "Downloading recognition model, please wait. This may take several minutes depending upon your network connection.\n",
      "/local_disk0/.ephemeral_nfs/envs/pythonEnv-16a27e21-24c0-4d2e-a967-c0e2d396bf43/lib/python3.11/site-packages/torch/utils/data/dataloader.py:665: UserWarning: 'pin_memory' argument is set as true but no accelerator is found, then device pinned memory won't be used.\n",
      "  warnings.warn(warn_msg)\n",
      "/local_disk0/.ephemeral_nfs/envs/pythonEnv-16a27e21-24c0-4d2e-a967-c0e2d396bf43/lib/python3.11/site-packages/torch/utils/data/dataloader.py:665: UserWarning: 'pin_memory' argument is set as true but no accelerator is found, then device pinned memory won't be used.\n",
      "  warnings.warn(warn_msg)\n",
      "/local_disk0/.ephemeral_nfs/envs/pythonEnv-16a27e21-24c0-4d2e-a967-c0e2d396bf43/lib/python3.11/site-packages/torch/utils/data/dataloader.py:665: UserWarning: 'pin_memory' argument is set as true but no accelerator is found, then device pinned memory won't be used.\n",
      "  warnings.warn(warn_msg)\n"
     ]
    }
   ],
   "source": [
    "# Instantiate Docling\n",
    "converter = DocumentConverter()\n",
    "\n",
    "# Create a list to store Markdown dataframes\n",
    "markdown_data_for_all_docs = []\n",
    "\n",
    "for file in file_paths:\n",
    "\n",
    "  # Convert PDF to Markdown\n",
    "  result = converter.convert(file)\n",
    "  markdown_document = result.document.export_to_markdown()\n",
    "\n",
    "  # Define Markdown headers to chunk on\n",
    "  \n",
    "  headers_to_split_on = [\n",
    "      (\"#\", \"Header 1\"),\n",
    "      (\"##\", \"Header 2\"),\n",
    "      (\"###\", \"Header 3\"),\n",
    "  ]\n",
    "\n",
    "  markdown_splitter = MarkdownHeaderTextSplitter(headers_to_split_on)\n",
    "  md_header_splits = markdown_splitter.split_text(markdown_document)\n",
    "\n",
    "  # Add more columns like Page Number or URL as metadata for AI to filter on\n",
    "  markdown_data_for_all_docs.extend([{\"chunked_markdown\": x.page_content} for x in md_header_splits])\n",
    "\n",
    "df = spark.createDataFrame(markdown_data_for_all_docs)"
   ]
  },
  {
   "cell_type": "code",
   "execution_count": 0,
   "metadata": {
    "application/vnd.databricks.v1+cell": {
     "cellMetadata": {
      "byteLimit": 2048000,
      "rowLimit": 10000
     },
     "inputWidgets": {},
     "nuid": "25754c44-f3c4-4896-8b24-e79f03f9cce8",
     "showTitle": false,
     "tableResultSettingsMap": {},
     "title": ""
    },
    "jupyter": {
     "outputs_hidden": true
    }
   },
   "outputs": [],
   "source": [
    "# Create primary key, needed for Vector Search\n",
    "df = df.withColumn(\"id\", monotonically_increasing_id())\n",
    "\n",
    "# Save results to Silver Delta Table\n",
    "df.write.option(\"mergeSchema\", \"true\").mode(\"overwrite\").saveAsTable(\"users.david_hurley.vehicle_warranty_markdown\")"
   ]
  }
 ],
 "metadata": {
  "application/vnd.databricks.v1+notebook": {
   "computePreferences": null,
   "dashboards": [],
   "environmentMetadata": {
    "base_environment": "",
    "environment_version": "2"
   },
   "inputWidgetPreferences": null,
   "language": "python",
   "notebookMetadata": {
    "pythonIndentUnit": 2
   },
   "notebookName": "Docling Markdown Example",
   "widgets": {}
  },
  "language_info": {
   "name": "python"
  }
 },
 "nbformat": 4,
 "nbformat_minor": 0
}
